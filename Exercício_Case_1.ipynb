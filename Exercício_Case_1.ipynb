{
  "cells": [
    {
      "cell_type": "markdown",
      "metadata": {
        "id": "XRuhiBHN4vtZ"
      },
      "source": [
        "# Data Wrangling - Case 1 "
      ]
    },
    {
      "cell_type": "markdown",
      "metadata": {
        "id": "ueaB3xnB6wWG"
      },
      "source": [
        "Se você fosse gerente em uma empresa, o que você faria diferente caso descobrisse que alguns de seus funcionários estão pensando em sair? Daria um aumento, buscaria contratar outro ou tentaria ver como melhorar? De toda forma, seria útil e evitaria muitos problemas!\n",
        "\n",
        "No case de hoje, vamos fazer exatamente isso! \n",
        "\n",
        "Daily Happiness & Employee Turnover\n",
        "Is There a Relationship Between Employee Happiness and Job Turnover?\n",
        "\n",
        "\n",
        "Dataset: https://www.kaggle.com/harriken/employeeturnover?select=votes.csv\n"
      ]
    },
    {
      "cell_type": "markdown",
      "metadata": {
        "id": "Mf3A3BNJ411y"
      },
      "source": [
        "## Importe as bibliotecas necessárias:"
      ]
    },
    {
      "cell_type": "code",
      "execution_count": 1,
      "metadata": {
        "id": "1xYyDsJC4BtZ"
      },
      "outputs": [],
      "source": [
        "import pandas as pd\n",
        "import numpy as np\n",
        "# adicione outras aqui"
      ]
    },
    {
      "cell_type": "markdown",
      "metadata": {
        "id": "WGEUTNOg5Gjk"
      },
      "source": [
        "## Importe os arquivos necessários:"
      ]
    },
    {
      "cell_type": "markdown",
      "metadata": {
        "id": "cMlAvadT7qi0"
      },
      "source": [
        "- <b>Arquivo de churn</b>:\n",
        "Descreve se o funcionário ainda está na empresa, indicando os que já sairam (<i>churn</i>). Ignorar ids negativos, o id do funcionário é único dentro da empresa somente (funcionários distintos em empresas diferentes podem ter o mesmo ID).\n",
        "Arquivo: data/churn.csv\n",
        "\n",
        "- <b>Arquivo de Interação nos Comentários</b>:\n",
        "Descreve os usuário que interagiram com os comentários postados, dando like ou deslike. Arquivo: data/commentInteractions.csv\n",
        "\n",
        "- <b>Arquivo de Comentários Anônimos</b>:\n",
        "Descreve cada comentário escrito pelos funcionários e uma visão geral da quantidade de likes e deslikes. Arquivo: data/comments_clean_anonimized.csv\n",
        "\n",
        "- <b>Arquivo de Votação</b>: \n",
        "Representa os votos do funcionário na pesquisa de statisfação, sendo que cada voto mede a felicidade de 1 a 4, sendo 4 o mais feliz. Arquivo: data/votes.csv"
      ]
    },
    {
      "cell_type": "code",
      "execution_count": 2,
      "metadata": {
        "colab": {
          "base_uri": "https://localhost:8080/",
          "height": 198
        },
        "id": "dUk2hIae5G9p",
        "outputId": "12271646-0a3e-4c9d-e0a9-e13fabcead32"
      },
      "outputs": [
        {
          "data": {
            "text/html": [
              "<div>\n",
              "<style scoped>\n",
              "    .dataframe tbody tr th:only-of-type {\n",
              "        vertical-align: middle;\n",
              "    }\n",
              "\n",
              "    .dataframe tbody tr th {\n",
              "        vertical-align: top;\n",
              "    }\n",
              "\n",
              "    .dataframe thead th {\n",
              "        text-align: right;\n",
              "    }\n",
              "</style>\n",
              "<table border=\"1\" class=\"dataframe\">\n",
              "  <thead>\n",
              "    <tr style=\"text-align: right;\">\n",
              "      <th></th>\n",
              "      <th>employee</th>\n",
              "      <th>companyAlias</th>\n",
              "      <th>numVotes</th>\n",
              "      <th>lastParticipationDate</th>\n",
              "      <th>stillExists</th>\n",
              "    </tr>\n",
              "  </thead>\n",
              "  <tbody>\n",
              "    <tr>\n",
              "      <th>0</th>\n",
              "      <td>512</td>\n",
              "      <td>56aec740f1ef260003e307d6</td>\n",
              "      <td>4</td>\n",
              "      <td>Thu Feb 23 12:48:04 CET 2017</td>\n",
              "      <td>True</td>\n",
              "    </tr>\n",
              "    <tr>\n",
              "      <th>1</th>\n",
              "      <td>-2</td>\n",
              "      <td>56aec740f1ef260003e307d6</td>\n",
              "      <td>0</td>\n",
              "      <td>Wed Jan 18 14:00:55 CET 2017</td>\n",
              "      <td>False</td>\n",
              "    </tr>\n",
              "    <tr>\n",
              "      <th>2</th>\n",
              "      <td>2</td>\n",
              "      <td>56aec740f1ef260003e307d6</td>\n",
              "      <td>72</td>\n",
              "      <td>Fri Mar 17 01:00:00 CET 2017</td>\n",
              "      <td>True</td>\n",
              "    </tr>\n",
              "    <tr>\n",
              "      <th>3</th>\n",
              "      <td>487</td>\n",
              "      <td>56aec740f1ef260003e307d6</td>\n",
              "      <td>14</td>\n",
              "      <td>Sat Nov 19 15:02:14 CET 2016</td>\n",
              "      <td>False</td>\n",
              "    </tr>\n",
              "    <tr>\n",
              "      <th>4</th>\n",
              "      <td>3</td>\n",
              "      <td>56aec740f1ef260003e307d6</td>\n",
              "      <td>22</td>\n",
              "      <td>Thu Feb 16 01:00:00 CET 2017</td>\n",
              "      <td>True</td>\n",
              "    </tr>\n",
              "  </tbody>\n",
              "</table>\n",
              "</div>"
            ],
            "text/plain": [
              "   employee              companyAlias  numVotes         lastParticipationDate  \\\n",
              "0       512  56aec740f1ef260003e307d6         4  Thu Feb 23 12:48:04 CET 2017   \n",
              "1        -2  56aec740f1ef260003e307d6         0  Wed Jan 18 14:00:55 CET 2017   \n",
              "2         2  56aec740f1ef260003e307d6        72  Fri Mar 17 01:00:00 CET 2017   \n",
              "3       487  56aec740f1ef260003e307d6        14  Sat Nov 19 15:02:14 CET 2016   \n",
              "4         3  56aec740f1ef260003e307d6        22  Thu Feb 16 01:00:00 CET 2017   \n",
              "\n",
              "   stillExists  \n",
              "0         True  \n",
              "1        False  \n",
              "2         True  \n",
              "3        False  \n",
              "4         True  "
            ]
          },
          "execution_count": 2,
          "metadata": {},
          "output_type": "execute_result"
        }
      ],
      "source": [
        "df_churn = pd.read_csv(\"churn.csv\")\n",
        "df_churn.head()"
      ]
    },
    {
      "cell_type": "code",
      "execution_count": 3,
      "metadata": {
        "colab": {
          "base_uri": "https://localhost:8080/"
        },
        "id": "B86iWLIN6Ym0",
        "outputId": "50d29380-20cf-4b64-a6fe-ea32c846089f"
      },
      "outputs": [
        {
          "data": {
            "text/plain": [
              "(4847, 5)"
            ]
          },
          "execution_count": 3,
          "metadata": {},
          "output_type": "execute_result"
        }
      ],
      "source": [
        "df_churn.shape"
      ]
    },
    {
      "cell_type": "markdown",
      "metadata": {
        "id": "78AKYwNA7tBl"
      },
      "source": [
        "Interação nos comentários"
      ]
    },
    {
      "cell_type": "code",
      "execution_count": 4,
      "metadata": {
        "colab": {
          "base_uri": "https://localhost:8080/",
          "height": 253
        },
        "id": "4cX9yoRY512G",
        "outputId": "84cf4044-d800-455d-8611-ae929079e98e"
      },
      "outputs": [
        {
          "name": "stderr",
          "output_type": "stream",
          "text": [
            "C:\\Users\\Italo\\AppData\\Local\\Packages\\PythonSoftwareFoundation.Python.3.9_qbz5n2kfra8p0\\LocalCache\\local-packages\\Python39\\site-packages\\IPython\\core\\interactiveshell.py:3457: DtypeWarning: Columns (2,3) have mixed types.Specify dtype option on import or set low_memory=False.\n",
            "  exec(code_obj, self.user_global_ns, self.user_ns)\n"
          ]
        },
        {
          "data": {
            "text/html": [
              "<div>\n",
              "<style scoped>\n",
              "    .dataframe tbody tr th:only-of-type {\n",
              "        vertical-align: middle;\n",
              "    }\n",
              "\n",
              "    .dataframe tbody tr th {\n",
              "        vertical-align: top;\n",
              "    }\n",
              "\n",
              "    .dataframe thead th {\n",
              "        text-align: right;\n",
              "    }\n",
              "</style>\n",
              "<table border=\"1\" class=\"dataframe\">\n",
              "  <thead>\n",
              "    <tr style=\"text-align: right;\">\n",
              "      <th></th>\n",
              "      <th>employee</th>\n",
              "      <th>companyAlias</th>\n",
              "      <th>liked</th>\n",
              "      <th>disliked</th>\n",
              "      <th>commentId</th>\n",
              "    </tr>\n",
              "  </thead>\n",
              "  <tbody>\n",
              "    <tr>\n",
              "      <th>0</th>\n",
              "      <td>307</td>\n",
              "      <td>56aec740f1ef260003e307d6</td>\n",
              "      <td>True</td>\n",
              "      <td>False</td>\n",
              "      <td>58d018d7e010990004e38070</td>\n",
              "    </tr>\n",
              "    <tr>\n",
              "      <th>1</th>\n",
              "      <td>36</td>\n",
              "      <td>56aec740f1ef260003e307d6</td>\n",
              "      <td>True</td>\n",
              "      <td>False</td>\n",
              "      <td>58d018d7e010990004e38070</td>\n",
              "    </tr>\n",
              "    <tr>\n",
              "      <th>2</th>\n",
              "      <td>276</td>\n",
              "      <td>56aec740f1ef260003e307d6</td>\n",
              "      <td>True</td>\n",
              "      <td>False</td>\n",
              "      <td>58d018d7e010990004e38070</td>\n",
              "    </tr>\n",
              "    <tr>\n",
              "      <th>3</th>\n",
              "      <td>24</td>\n",
              "      <td>56aec740f1ef260003e307d6</td>\n",
              "      <td>True</td>\n",
              "      <td>False</td>\n",
              "      <td>58d018d7e010990004e38070</td>\n",
              "    </tr>\n",
              "    <tr>\n",
              "      <th>4</th>\n",
              "      <td>382</td>\n",
              "      <td>56aec740f1ef260003e307d6</td>\n",
              "      <td>True</td>\n",
              "      <td>False</td>\n",
              "      <td>58d0179ae010990004e3806d</td>\n",
              "    </tr>\n",
              "  </tbody>\n",
              "</table>\n",
              "</div>"
            ],
            "text/plain": [
              "   employee              companyAlias liked disliked                 commentId\n",
              "0       307  56aec740f1ef260003e307d6  True    False  58d018d7e010990004e38070\n",
              "1        36  56aec740f1ef260003e307d6  True    False  58d018d7e010990004e38070\n",
              "2       276  56aec740f1ef260003e307d6  True    False  58d018d7e010990004e38070\n",
              "3        24  56aec740f1ef260003e307d6  True    False  58d018d7e010990004e38070\n",
              "4       382  56aec740f1ef260003e307d6  True    False  58d0179ae010990004e3806d"
            ]
          },
          "execution_count": 4,
          "metadata": {},
          "output_type": "execute_result"
        }
      ],
      "source": [
        "df_comment_interactions = pd.read_csv(\"commentInteractions.csv\")\n",
        "df_comment_interactions.head()"
      ]
    },
    {
      "cell_type": "code",
      "execution_count": 5,
      "metadata": {
        "id": "he03lmrI6WeH"
      },
      "outputs": [
        {
          "data": {
            "text/plain": [
              "(336960, 5)"
            ]
          },
          "execution_count": 5,
          "metadata": {},
          "output_type": "execute_result"
        }
      ],
      "source": [
        "df_comment_interactions.shape"
      ]
    },
    {
      "cell_type": "markdown",
      "metadata": {
        "id": "OoVwnv437wbq"
      },
      "source": [
        "Comentários Anônimos"
      ]
    },
    {
      "cell_type": "code",
      "execution_count": 6,
      "metadata": {
        "colab": {
          "base_uri": "https://localhost:8080/",
          "height": 391
        },
        "id": "RY24FxoL52Lt",
        "outputId": "662f9b6c-6700-4d68-ad52-0d4f3a7b181d"
      },
      "outputs": [
        {
          "data": {
            "text/html": [
              "<div>\n",
              "<style scoped>\n",
              "    .dataframe tbody tr th:only-of-type {\n",
              "        vertical-align: middle;\n",
              "    }\n",
              "\n",
              "    .dataframe tbody tr th {\n",
              "        vertical-align: top;\n",
              "    }\n",
              "\n",
              "    .dataframe thead th {\n",
              "        text-align: right;\n",
              "    }\n",
              "</style>\n",
              "<table border=\"1\" class=\"dataframe\">\n",
              "  <thead>\n",
              "    <tr style=\"text-align: right;\">\n",
              "      <th></th>\n",
              "      <th>employee</th>\n",
              "      <th>companyAlias</th>\n",
              "      <th>commentId</th>\n",
              "      <th>txt</th>\n",
              "      <th>likes</th>\n",
              "      <th>dislikes</th>\n",
              "      <th>commentDate</th>\n",
              "    </tr>\n",
              "  </thead>\n",
              "  <tbody>\n",
              "    <tr>\n",
              "      <th>0</th>\n",
              "      <td>307</td>\n",
              "      <td>56aec740f1ef260003e307d6</td>\n",
              "      <td>58d018d7e010990004e38070</td>\n",
              "      <td>**********************************************...</td>\n",
              "      <td>4.0</td>\n",
              "      <td>0.0</td>\n",
              "      <td>Mon Mar 20 19:00:17 CET 2017</td>\n",
              "    </tr>\n",
              "    <tr>\n",
              "      <th>1</th>\n",
              "      <td>382</td>\n",
              "      <td>56aec740f1ef260003e307d6</td>\n",
              "      <td>58d0179ae010990004e3806d</td>\n",
              "      <td>*****************************</td>\n",
              "      <td>1.0</td>\n",
              "      <td>2.0</td>\n",
              "      <td>Mon Mar 20 18:55:16 CET 2017</td>\n",
              "    </tr>\n",
              "    <tr>\n",
              "      <th>2</th>\n",
              "      <td>172</td>\n",
              "      <td>56aec740f1ef260003e307d6</td>\n",
              "      <td>58cff8cde010990004e37f6a</td>\n",
              "      <td>***************************</td>\n",
              "      <td>3.0</td>\n",
              "      <td>0.0</td>\n",
              "      <td>Mon Mar 20 16:44:02 CET 2017</td>\n",
              "    </tr>\n",
              "    <tr>\n",
              "      <th>3</th>\n",
              "      <td>135</td>\n",
              "      <td>56aec740f1ef260003e307d6</td>\n",
              "      <td>58cfefeee010990004e37f60</td>\n",
              "      <td>***************************</td>\n",
              "      <td>1.0</td>\n",
              "      <td>1.0</td>\n",
              "      <td>Mon Mar 20 16:06:08 CET 2017</td>\n",
              "    </tr>\n",
              "    <tr>\n",
              "      <th>4</th>\n",
              "      <td>225</td>\n",
              "      <td>56aec740f1ef260003e307d6</td>\n",
              "      <td>58cfd9b4e010990004e37f52</td>\n",
              "      <td>*********************************</td>\n",
              "      <td>3.0</td>\n",
              "      <td>2.0</td>\n",
              "      <td>Mon Mar 20 14:30:50 CET 2017</td>\n",
              "    </tr>\n",
              "  </tbody>\n",
              "</table>\n",
              "</div>"
            ],
            "text/plain": [
              "   employee              companyAlias                 commentId  \\\n",
              "0       307  56aec740f1ef260003e307d6  58d018d7e010990004e38070   \n",
              "1       382  56aec740f1ef260003e307d6  58d0179ae010990004e3806d   \n",
              "2       172  56aec740f1ef260003e307d6  58cff8cde010990004e37f6a   \n",
              "3       135  56aec740f1ef260003e307d6  58cfefeee010990004e37f60   \n",
              "4       225  56aec740f1ef260003e307d6  58cfd9b4e010990004e37f52   \n",
              "\n",
              "                                                 txt  likes  dislikes  \\\n",
              "0  **********************************************...    4.0       0.0   \n",
              "1                      *****************************    1.0       2.0   \n",
              "2                        ***************************    3.0       0.0   \n",
              "3                        ***************************    1.0       1.0   \n",
              "4                  *********************************    3.0       2.0   \n",
              "\n",
              "                    commentDate  \n",
              "0  Mon Mar 20 19:00:17 CET 2017  \n",
              "1  Mon Mar 20 18:55:16 CET 2017  \n",
              "2  Mon Mar 20 16:44:02 CET 2017  \n",
              "3  Mon Mar 20 16:06:08 CET 2017  \n",
              "4  Mon Mar 20 14:30:50 CET 2017  "
            ]
          },
          "execution_count": 6,
          "metadata": {},
          "output_type": "execute_result"
        }
      ],
      "source": [
        "df_comments_clean_anonimized = pd.read_csv(\"comments_clean_anonimized.csv\")\n",
        "df_comments_clean_anonimized.head()"
      ]
    },
    {
      "cell_type": "code",
      "execution_count": 7,
      "metadata": {
        "colab": {
          "base_uri": "https://localhost:8080/"
        },
        "id": "LhOKVBYI6S9o",
        "outputId": "259f2322-a983-42ea-befd-b0582609a775"
      },
      "outputs": [
        {
          "data": {
            "text/plain": [
              "(82756, 7)"
            ]
          },
          "execution_count": 7,
          "metadata": {},
          "output_type": "execute_result"
        }
      ],
      "source": [
        "df_comments_clean_anonimized.shape"
      ]
    },
    {
      "cell_type": "code",
      "execution_count": 8,
      "metadata": {
        "colab": {
          "base_uri": "https://localhost:8080/",
          "height": 198
        },
        "id": "JxulH2WO52bQ",
        "outputId": "3c95cec4-a882-4cb6-db94-affb9d22c242"
      },
      "outputs": [
        {
          "data": {
            "text/html": [
              "<div>\n",
              "<style scoped>\n",
              "    .dataframe tbody tr th:only-of-type {\n",
              "        vertical-align: middle;\n",
              "    }\n",
              "\n",
              "    .dataframe tbody tr th {\n",
              "        vertical-align: top;\n",
              "    }\n",
              "\n",
              "    .dataframe thead th {\n",
              "        text-align: right;\n",
              "    }\n",
              "</style>\n",
              "<table border=\"1\" class=\"dataframe\">\n",
              "  <thead>\n",
              "    <tr style=\"text-align: right;\">\n",
              "      <th></th>\n",
              "      <th>employee</th>\n",
              "      <th>companyAlias</th>\n",
              "      <th>voteDate</th>\n",
              "      <th>vote</th>\n",
              "    </tr>\n",
              "  </thead>\n",
              "  <tbody>\n",
              "    <tr>\n",
              "      <th>0</th>\n",
              "      <td>31</td>\n",
              "      <td>56aec740f1ef260003e307d6</td>\n",
              "      <td>Mon Feb 01 01:00:00 CET 2016</td>\n",
              "      <td>4</td>\n",
              "    </tr>\n",
              "    <tr>\n",
              "      <th>1</th>\n",
              "      <td>33</td>\n",
              "      <td>56aec740f1ef260003e307d6</td>\n",
              "      <td>Mon Feb 01 01:00:00 CET 2016</td>\n",
              "      <td>4</td>\n",
              "    </tr>\n",
              "    <tr>\n",
              "      <th>2</th>\n",
              "      <td>79</td>\n",
              "      <td>56aec740f1ef260003e307d6</td>\n",
              "      <td>Mon Feb 01 01:00:00 CET 2016</td>\n",
              "      <td>4</td>\n",
              "    </tr>\n",
              "    <tr>\n",
              "      <th>3</th>\n",
              "      <td>94</td>\n",
              "      <td>56aec740f1ef260003e307d6</td>\n",
              "      <td>Mon Feb 01 01:00:00 CET 2016</td>\n",
              "      <td>4</td>\n",
              "    </tr>\n",
              "    <tr>\n",
              "      <th>4</th>\n",
              "      <td>16</td>\n",
              "      <td>56aec740f1ef260003e307d6</td>\n",
              "      <td>Mon Feb 01 01:00:00 CET 2016</td>\n",
              "      <td>2</td>\n",
              "    </tr>\n",
              "  </tbody>\n",
              "</table>\n",
              "</div>"
            ],
            "text/plain": [
              "   employee              companyAlias                      voteDate  vote\n",
              "0        31  56aec740f1ef260003e307d6  Mon Feb 01 01:00:00 CET 2016     4\n",
              "1        33  56aec740f1ef260003e307d6  Mon Feb 01 01:00:00 CET 2016     4\n",
              "2        79  56aec740f1ef260003e307d6  Mon Feb 01 01:00:00 CET 2016     4\n",
              "3        94  56aec740f1ef260003e307d6  Mon Feb 01 01:00:00 CET 2016     4\n",
              "4        16  56aec740f1ef260003e307d6  Mon Feb 01 01:00:00 CET 2016     2"
            ]
          },
          "execution_count": 8,
          "metadata": {},
          "output_type": "execute_result"
        }
      ],
      "source": [
        "df_votes = pd.read_csv(\"votes.csv\")\n",
        "df_votes.head()"
      ]
    },
    {
      "cell_type": "code",
      "execution_count": 9,
      "metadata": {
        "colab": {
          "base_uri": "https://localhost:8080/"
        },
        "id": "iSUnN0JC52pn",
        "outputId": "a9f1c1b5-db07-47d8-f013-0ef0f3d8e420"
      },
      "outputs": [
        {
          "data": {
            "text/plain": [
              "(221232, 4)"
            ]
          },
          "execution_count": 9,
          "metadata": {},
          "output_type": "execute_result"
        }
      ],
      "source": [
        "df_votes.shape"
      ]
    },
    {
      "cell_type": "markdown",
      "metadata": {
        "id": "x37dPX5Y5HPJ"
      },
      "source": [
        "## Entenda o seu dado"
      ]
    },
    {
      "cell_type": "markdown",
      "metadata": {
        "id": "wctn1rJI6rFh"
      },
      "source": [
        "a) Qual a sua variável target?"
      ]
    },
    {
      "cell_type": "code",
      "execution_count": 10,
      "metadata": {
        "colab": {
          "base_uri": "https://localhost:8080/"
        },
        "id": "zGj2a79D5HcE",
        "outputId": "93ddb18f-c3ec-4835-cccd-4047c07862ea"
      },
      "outputs": [
        {
          "data": {
            "text/plain": [
              "0        True\n",
              "1       False\n",
              "2        True\n",
              "3       False\n",
              "4        True\n",
              "        ...  \n",
              "4842     True\n",
              "4843     True\n",
              "4844     True\n",
              "4845     True\n",
              "4846     True\n",
              "Name: stillExists, Length: 4847, dtype: bool"
            ]
          },
          "execution_count": 10,
          "metadata": {},
          "output_type": "execute_result"
        }
      ],
      "source": [
        "df_churn.stillExists"
      ]
    },
    {
      "cell_type": "code",
      "execution_count": 11,
      "metadata": {
        "colab": {
          "base_uri": "https://localhost:8080/"
        },
        "id": "LKZEKItI_2np",
        "outputId": "273bc367-171e-423d-ca6c-70844b281037"
      },
      "outputs": [
        {
          "data": {
            "text/plain": [
              "0        Thu Feb 23 12:48:04 CET 2017\n",
              "1        Wed Jan 18 14:00:55 CET 2017\n",
              "2        Fri Mar 17 01:00:00 CET 2017\n",
              "3        Sat Nov 19 15:02:14 CET 2016\n",
              "4        Thu Feb 16 01:00:00 CET 2017\n",
              "                    ...              \n",
              "4842     Fri Mar 17 15:43:58 CET 2017\n",
              "4843     Fri Mar 17 17:00:00 CET 2017\n",
              "4844     Fri Mar 17 17:01:54 CET 2017\n",
              "4845    Tue Jun 28 02:00:00 CEST 2016\n",
              "4846    Mon Jul 04 19:02:03 CEST 2016\n",
              "Name: lastParticipationDate, Length: 4847, dtype: object"
            ]
          },
          "execution_count": 11,
          "metadata": {},
          "output_type": "execute_result"
        }
      ],
      "source": [
        "df_churn.lastParticipationDate"
      ]
    },
    {
      "cell_type": "markdown",
      "metadata": {
        "id": "V5TB4FK46rQM"
      },
      "source": [
        "b) Quais as colunas do seu dataset que podem te ajudar a prever isso?"
      ]
    },
    {
      "cell_type": "markdown",
      "metadata": {
        "id": "RJjvtAxgAur5"
      },
      "source": [
        "- df_churn:\n",
        "  - numVotes\n",
        "- df_comments_clean_anonimized:\n",
        "  - likes\n",
        "  - dislikes\n",
        "  - qt dias entre comentário e churn\n",
        "- df_comment_interactions:\n",
        "  - flag funcionário deu like em comentario xyz?\n",
        "- votes:\n",
        "  - vote\n",
        "  - há quanto tempo ele deu essa nota\n",
        "\n",
        "\n"
      ]
    },
    {
      "cell_type": "markdown",
      "metadata": {
        "id": "e50TJ9K56rd7"
      },
      "source": [
        "c) Existem outras informações (talvez na internet) que poderiam te ajudar a prever?"
      ]
    },
    {
      "cell_type": "markdown",
      "metadata": {
        "id": "kiMmJ0zvCgKf"
      },
      "source": [
        "- preço da ação da companhia\n",
        "- média de avaliação da companhia em sites de empresa\n",
        "- número de funcionários da companhia no linked_in"
      ]
    },
    {
      "cell_type": "markdown",
      "metadata": {
        "id": "3BmWz8A16ryl"
      },
      "source": [
        "d) Como os 4 datasets se relacionam? Quais as chaves de cada um?\n"
      ]
    },
    {
      "cell_type": "code",
      "execution_count": 12,
      "metadata": {
        "colab": {
          "base_uri": "https://localhost:8080/"
        },
        "id": "u3S2WGqG_iNs",
        "outputId": "313a246f-9509-4140-8d38-afb2bafb0eb0"
      },
      "outputs": [
        {
          "data": {
            "text/plain": [
              "['employee',\n",
              " 'companyAlias',\n",
              " 'numVotes',\n",
              " 'lastParticipationDate',\n",
              " 'stillExists']"
            ]
          },
          "execution_count": 12,
          "metadata": {},
          "output_type": "execute_result"
        }
      ],
      "source": [
        "list(df_churn.columns)\n",
        "# Chaves: 'employee', 'companyAlias'"
      ]
    },
    {
      "cell_type": "code",
      "execution_count": 13,
      "metadata": {
        "colab": {
          "base_uri": "https://localhost:8080/"
        },
        "id": "sMKoUckJluZj",
        "outputId": "c7b2ac95-c3df-45a4-c408-36dcd83eece1"
      },
      "outputs": [
        {
          "data": {
            "text/plain": [
              "['employee',\n",
              " 'companyAlias',\n",
              " 'commentId',\n",
              " 'txt',\n",
              " 'likes',\n",
              " 'dislikes',\n",
              " 'commentDate']"
            ]
          },
          "execution_count": 13,
          "metadata": {},
          "output_type": "execute_result"
        }
      ],
      "source": [
        "list(df_comments_clean_anonimized.columns)\n",
        "# Chaves: 'employee', 'companyAlias', 'commentId'"
      ]
    },
    {
      "cell_type": "code",
      "execution_count": 14,
      "metadata": {
        "colab": {
          "base_uri": "https://localhost:8080/"
        },
        "id": "y1VIRB68luZj",
        "outputId": "324a9f03-ff9e-4d4a-ce58-df8b2f3eafab"
      },
      "outputs": [
        {
          "data": {
            "text/plain": [
              "['employee', 'companyAlias', 'liked', 'disliked', 'commentId']"
            ]
          },
          "execution_count": 14,
          "metadata": {},
          "output_type": "execute_result"
        }
      ],
      "source": [
        "list(df_comment_interactions.columns)\n",
        "# Chaves: 'employee', 'companyAlias', 'commentId'\n",
        "# -- qual a diferença?\n",
        "# -- o número de linhas é igual que a anterior?"
      ]
    },
    {
      "cell_type": "code",
      "execution_count": 15,
      "metadata": {
        "colab": {
          "base_uri": "https://localhost:8080/"
        },
        "id": "wrZ0G8ppluZj",
        "outputId": "fdcd85f3-6872-4f7a-bb10-c9670e8c360f"
      },
      "outputs": [
        {
          "data": {
            "text/plain": [
              "['employee', 'companyAlias', 'voteDate', 'vote']"
            ]
          },
          "execution_count": 15,
          "metadata": {},
          "output_type": "execute_result"
        }
      ],
      "source": [
        "list(df_votes.columns)\n",
        "# Chaves: 'employee', 'companyAlias', 'voteDate'"
      ]
    },
    {
      "cell_type": "markdown",
      "metadata": {
        "id": "CtcLgo3SEWzz"
      },
      "source": [
        "e) Filtre o comentário de id \"58cff8cde010990004e37f6a\" nas bases df_comment_interactions e df_comments_clean_anonimized. Qual a diferença?"
      ]
    },
    {
      "cell_type": "code",
      "execution_count": 16,
      "metadata": {
        "colab": {
          "base_uri": "https://localhost:8080/",
          "height": 197
        },
        "id": "iBOXKBnmCpsy",
        "outputId": "409c1766-e0e4-464c-cbab-0c44acb83b40"
      },
      "outputs": [
        {
          "data": {
            "text/html": [
              "<div>\n",
              "<style scoped>\n",
              "    .dataframe tbody tr th:only-of-type {\n",
              "        vertical-align: middle;\n",
              "    }\n",
              "\n",
              "    .dataframe tbody tr th {\n",
              "        vertical-align: top;\n",
              "    }\n",
              "\n",
              "    .dataframe thead th {\n",
              "        text-align: right;\n",
              "    }\n",
              "</style>\n",
              "<table border=\"1\" class=\"dataframe\">\n",
              "  <thead>\n",
              "    <tr style=\"text-align: right;\">\n",
              "      <th></th>\n",
              "      <th>employee</th>\n",
              "      <th>companyAlias</th>\n",
              "      <th>commentId</th>\n",
              "      <th>txt</th>\n",
              "      <th>likes</th>\n",
              "      <th>dislikes</th>\n",
              "      <th>commentDate</th>\n",
              "    </tr>\n",
              "  </thead>\n",
              "  <tbody>\n",
              "    <tr>\n",
              "      <th>2</th>\n",
              "      <td>172</td>\n",
              "      <td>56aec740f1ef260003e307d6</td>\n",
              "      <td>58cff8cde010990004e37f6a</td>\n",
              "      <td>***************************</td>\n",
              "      <td>3.0</td>\n",
              "      <td>0.0</td>\n",
              "      <td>Mon Mar 20 16:44:02 CET 2017</td>\n",
              "    </tr>\n",
              "    <tr>\n",
              "      <th>5115</th>\n",
              "      <td>172</td>\n",
              "      <td>56aec740f1ef260003e307d6</td>\n",
              "      <td>58cff8cde010990004e37f6a</td>\n",
              "      <td>***************************</td>\n",
              "      <td>3.0</td>\n",
              "      <td>0.0</td>\n",
              "      <td>Mon Mar 20 16:44:02 CET 2017</td>\n",
              "    </tr>\n",
              "  </tbody>\n",
              "</table>\n",
              "</div>"
            ],
            "text/plain": [
              "      employee              companyAlias                 commentId  \\\n",
              "2          172  56aec740f1ef260003e307d6  58cff8cde010990004e37f6a   \n",
              "5115       172  56aec740f1ef260003e307d6  58cff8cde010990004e37f6a   \n",
              "\n",
              "                              txt  likes  dislikes  \\\n",
              "2     ***************************    3.0       0.0   \n",
              "5115  ***************************    3.0       0.0   \n",
              "\n",
              "                       commentDate  \n",
              "2     Mon Mar 20 16:44:02 CET 2017  \n",
              "5115  Mon Mar 20 16:44:02 CET 2017  "
            ]
          },
          "execution_count": 16,
          "metadata": {},
          "output_type": "execute_result"
        }
      ],
      "source": [
        "df_comments_clean_anonimized.loc[df_comments_clean_anonimized.commentId==\"58cff8cde010990004e37f6a\"]"
      ]
    },
    {
      "cell_type": "code",
      "execution_count": 17,
      "metadata": {
        "colab": {
          "base_uri": "https://localhost:8080/",
          "height": 138
        },
        "id": "JUvawlFcEwIH",
        "outputId": "7d0118c3-05f6-42f6-f727-3464921dfc07"
      },
      "outputs": [
        {
          "data": {
            "text/html": [
              "<div>\n",
              "<style scoped>\n",
              "    .dataframe tbody tr th:only-of-type {\n",
              "        vertical-align: middle;\n",
              "    }\n",
              "\n",
              "    .dataframe tbody tr th {\n",
              "        vertical-align: top;\n",
              "    }\n",
              "\n",
              "    .dataframe thead th {\n",
              "        text-align: right;\n",
              "    }\n",
              "</style>\n",
              "<table border=\"1\" class=\"dataframe\">\n",
              "  <thead>\n",
              "    <tr style=\"text-align: right;\">\n",
              "      <th></th>\n",
              "      <th>employee</th>\n",
              "      <th>companyAlias</th>\n",
              "      <th>liked</th>\n",
              "      <th>disliked</th>\n",
              "      <th>commentId</th>\n",
              "    </tr>\n",
              "  </thead>\n",
              "  <tbody>\n",
              "    <tr>\n",
              "      <th>7</th>\n",
              "      <td>164</td>\n",
              "      <td>56aec740f1ef260003e307d6</td>\n",
              "      <td>True</td>\n",
              "      <td>False</td>\n",
              "      <td>58cff8cde010990004e37f6a</td>\n",
              "    </tr>\n",
              "    <tr>\n",
              "      <th>8</th>\n",
              "      <td>34</td>\n",
              "      <td>56aec740f1ef260003e307d6</td>\n",
              "      <td>True</td>\n",
              "      <td>False</td>\n",
              "      <td>58cff8cde010990004e37f6a</td>\n",
              "    </tr>\n",
              "    <tr>\n",
              "      <th>9</th>\n",
              "      <td>152</td>\n",
              "      <td>56aec740f1ef260003e307d6</td>\n",
              "      <td>True</td>\n",
              "      <td>False</td>\n",
              "      <td>58cff8cde010990004e37f6a</td>\n",
              "    </tr>\n",
              "  </tbody>\n",
              "</table>\n",
              "</div>"
            ],
            "text/plain": [
              "   employee              companyAlias liked disliked                 commentId\n",
              "7       164  56aec740f1ef260003e307d6  True    False  58cff8cde010990004e37f6a\n",
              "8        34  56aec740f1ef260003e307d6  True    False  58cff8cde010990004e37f6a\n",
              "9       152  56aec740f1ef260003e307d6  True    False  58cff8cde010990004e37f6a"
            ]
          },
          "execution_count": 17,
          "metadata": {},
          "output_type": "execute_result"
        }
      ],
      "source": [
        "df_comment_interactions.loc[df_comment_interactions.commentId==\"58cff8cde010990004e37f6a\"]"
      ]
    },
    {
      "cell_type": "markdown",
      "metadata": {
        "id": "WFV7o2WFluZk"
      },
      "source": [
        "Resp: Na base de cima temos o registro do comentário escrito pelo funcionario 172. Na debaixo, temos a interação de 3 outros funcionários (164, 34  152) com esse comentário."
      ]
    },
    {
      "cell_type": "markdown",
      "metadata": {
        "id": "8ClfH5erE4pd"
      },
      "source": [
        "f) Qual(is) chave(s) se relaciona(m) entre elas?\n",
        "\n",
        "\n",
        "Resp: commentId\t(e companyAlias)"
      ]
    },
    {
      "cell_type": "markdown",
      "metadata": {
        "id": "pAsFwHH5_d2K"
      },
      "source": [
        "##  Analise o seu dado"
      ]
    },
    {
      "cell_type": "markdown",
      "metadata": {
        "id": "61IfTAEi5Hka"
      },
      "source": [
        "a) Qual o tipo de variável que você tem?"
      ]
    },
    {
      "cell_type": "markdown",
      "metadata": {
        "id": "I3oCtWG-Fe4G"
      },
      "source": [
        "df_churn:\n",
        "\n",
        "- employee: Tipo Indefinido (apesar de ser um Int, é uma chave sem significado)\n",
        "- companyAlias: Tipo Indefinido\n",
        "- numVotes: Contagem\n",
        "- lastParticipationDate: Temporal\n",
        "- stillExists: Binário (Bool)\n",
        "\n"
      ]
    },
    {
      "cell_type": "code",
      "execution_count": 18,
      "metadata": {
        "colab": {
          "base_uri": "https://localhost:8080/",
          "height": 78
        },
        "id": "3wz2btu9Fa7p",
        "outputId": "8c578b26-a843-4f18-f6bf-b148e59d2d54"
      },
      "outputs": [
        {
          "data": {
            "text/html": [
              "<div>\n",
              "<style scoped>\n",
              "    .dataframe tbody tr th:only-of-type {\n",
              "        vertical-align: middle;\n",
              "    }\n",
              "\n",
              "    .dataframe tbody tr th {\n",
              "        vertical-align: top;\n",
              "    }\n",
              "\n",
              "    .dataframe thead th {\n",
              "        text-align: right;\n",
              "    }\n",
              "</style>\n",
              "<table border=\"1\" class=\"dataframe\">\n",
              "  <thead>\n",
              "    <tr style=\"text-align: right;\">\n",
              "      <th></th>\n",
              "      <th>employee</th>\n",
              "      <th>companyAlias</th>\n",
              "      <th>numVotes</th>\n",
              "      <th>lastParticipationDate</th>\n",
              "      <th>stillExists</th>\n",
              "    </tr>\n",
              "  </thead>\n",
              "  <tbody>\n",
              "    <tr>\n",
              "      <th>0</th>\n",
              "      <td>512</td>\n",
              "      <td>56aec740f1ef260003e307d6</td>\n",
              "      <td>4</td>\n",
              "      <td>Thu Feb 23 12:48:04 CET 2017</td>\n",
              "      <td>True</td>\n",
              "    </tr>\n",
              "  </tbody>\n",
              "</table>\n",
              "</div>"
            ],
            "text/plain": [
              "   employee              companyAlias  numVotes         lastParticipationDate  \\\n",
              "0       512  56aec740f1ef260003e307d6         4  Thu Feb 23 12:48:04 CET 2017   \n",
              "\n",
              "   stillExists  \n",
              "0         True  "
            ]
          },
          "execution_count": 18,
          "metadata": {},
          "output_type": "execute_result"
        }
      ],
      "source": [
        "df_churn.head(1)"
      ]
    },
    {
      "cell_type": "code",
      "execution_count": 19,
      "metadata": {
        "colab": {
          "base_uri": "https://localhost:8080/"
        },
        "id": "mmN25x63FQC9",
        "outputId": "82b8989d-bd77-44f9-8fde-6838166902ee"
      },
      "outputs": [
        {
          "data": {
            "text/plain": [
              "employee                  int64\n",
              "companyAlias             object\n",
              "numVotes                  int64\n",
              "lastParticipationDate    object\n",
              "stillExists                bool\n",
              "dtype: object"
            ]
          },
          "execution_count": 19,
          "metadata": {},
          "output_type": "execute_result"
        }
      ],
      "source": [
        "df_churn.dtypes"
      ]
    },
    {
      "cell_type": "markdown",
      "metadata": {
        "id": "L5hLusE-luZl"
      },
      "source": [
        "df_votes:\n",
        "\n",
        "- employee: Tipo Indefinido (apesar de ser um Int, é uma chave sem significado)\n",
        "- companyAlias: Tipo Indefinido\n",
        "- voteDate: Data -> Temporal\n",
        "- vote: Intervalos\n"
      ]
    },
    {
      "cell_type": "code",
      "execution_count": 20,
      "metadata": {
        "colab": {
          "base_uri": "https://localhost:8080/",
          "height": 78
        },
        "id": "S5BjWzR8luZl",
        "outputId": "ee6b13b0-409b-45d9-9ced-29c46245046f"
      },
      "outputs": [
        {
          "data": {
            "text/html": [
              "<div>\n",
              "<style scoped>\n",
              "    .dataframe tbody tr th:only-of-type {\n",
              "        vertical-align: middle;\n",
              "    }\n",
              "\n",
              "    .dataframe tbody tr th {\n",
              "        vertical-align: top;\n",
              "    }\n",
              "\n",
              "    .dataframe thead th {\n",
              "        text-align: right;\n",
              "    }\n",
              "</style>\n",
              "<table border=\"1\" class=\"dataframe\">\n",
              "  <thead>\n",
              "    <tr style=\"text-align: right;\">\n",
              "      <th></th>\n",
              "      <th>employee</th>\n",
              "      <th>companyAlias</th>\n",
              "      <th>voteDate</th>\n",
              "      <th>vote</th>\n",
              "    </tr>\n",
              "  </thead>\n",
              "  <tbody>\n",
              "    <tr>\n",
              "      <th>0</th>\n",
              "      <td>31</td>\n",
              "      <td>56aec740f1ef260003e307d6</td>\n",
              "      <td>Mon Feb 01 01:00:00 CET 2016</td>\n",
              "      <td>4</td>\n",
              "    </tr>\n",
              "  </tbody>\n",
              "</table>\n",
              "</div>"
            ],
            "text/plain": [
              "   employee              companyAlias                      voteDate  vote\n",
              "0        31  56aec740f1ef260003e307d6  Mon Feb 01 01:00:00 CET 2016     4"
            ]
          },
          "execution_count": 20,
          "metadata": {},
          "output_type": "execute_result"
        }
      ],
      "source": [
        "df_votes.head(1)"
      ]
    },
    {
      "cell_type": "code",
      "execution_count": 21,
      "metadata": {
        "colab": {
          "base_uri": "https://localhost:8080/"
        },
        "id": "JKmLXLseluZm",
        "outputId": "7206767e-d8aa-4e9f-cf6d-d88d63b6ed15"
      },
      "outputs": [
        {
          "data": {
            "text/plain": [
              "employee         int64\n",
              "companyAlias    object\n",
              "voteDate        object\n",
              "vote             int64\n",
              "dtype: object"
            ]
          },
          "execution_count": 21,
          "metadata": {},
          "output_type": "execute_result"
        }
      ],
      "source": [
        "df_votes.dtypes"
      ]
    },
    {
      "cell_type": "markdown",
      "metadata": {
        "id": "WB1r_Mn5GiOb"
      },
      "source": [
        "df_comments_clean_anonimized:\n",
        "\n",
        "- employee: Tipo Indefinido (apesar de ser um Int, é uma chave sem significado)\n",
        "- companyAlias: Tipo Indefinido\n",
        "- commentId: Tipo Indefinido\n",
        "- txt: Texto livre (Nominal Não-Categórico) -> Precisa de transformação!\n",
        "- likes: Contagem\n",
        "- dislikes: Contagem\n",
        "- commentDate: Data -> Temporal\n"
      ]
    },
    {
      "cell_type": "code",
      "execution_count": 22,
      "metadata": {
        "colab": {
          "base_uri": "https://localhost:8080/",
          "height": 132
        },
        "id": "jvSCaokJGcBu",
        "outputId": "fd603924-3a3f-43e9-ed90-ac51b8e15ae7"
      },
      "outputs": [
        {
          "data": {
            "text/html": [
              "<div>\n",
              "<style scoped>\n",
              "    .dataframe tbody tr th:only-of-type {\n",
              "        vertical-align: middle;\n",
              "    }\n",
              "\n",
              "    .dataframe tbody tr th {\n",
              "        vertical-align: top;\n",
              "    }\n",
              "\n",
              "    .dataframe thead th {\n",
              "        text-align: right;\n",
              "    }\n",
              "</style>\n",
              "<table border=\"1\" class=\"dataframe\">\n",
              "  <thead>\n",
              "    <tr style=\"text-align: right;\">\n",
              "      <th></th>\n",
              "      <th>employee</th>\n",
              "      <th>companyAlias</th>\n",
              "      <th>commentId</th>\n",
              "      <th>txt</th>\n",
              "      <th>likes</th>\n",
              "      <th>dislikes</th>\n",
              "      <th>commentDate</th>\n",
              "    </tr>\n",
              "  </thead>\n",
              "  <tbody>\n",
              "    <tr>\n",
              "      <th>0</th>\n",
              "      <td>307</td>\n",
              "      <td>56aec740f1ef260003e307d6</td>\n",
              "      <td>58d018d7e010990004e38070</td>\n",
              "      <td>**********************************************...</td>\n",
              "      <td>4.0</td>\n",
              "      <td>0.0</td>\n",
              "      <td>Mon Mar 20 19:00:17 CET 2017</td>\n",
              "    </tr>\n",
              "  </tbody>\n",
              "</table>\n",
              "</div>"
            ],
            "text/plain": [
              "   employee              companyAlias                 commentId  \\\n",
              "0       307  56aec740f1ef260003e307d6  58d018d7e010990004e38070   \n",
              "\n",
              "                                                 txt  likes  dislikes  \\\n",
              "0  **********************************************...    4.0       0.0   \n",
              "\n",
              "                    commentDate  \n",
              "0  Mon Mar 20 19:00:17 CET 2017  "
            ]
          },
          "execution_count": 22,
          "metadata": {},
          "output_type": "execute_result"
        }
      ],
      "source": [
        "df_comments_clean_anonimized.head(1)"
      ]
    },
    {
      "cell_type": "code",
      "execution_count": 23,
      "metadata": {
        "colab": {
          "base_uri": "https://localhost:8080/"
        },
        "id": "KkcFmCpBFUgg",
        "outputId": "1f3dc4dc-519c-43ac-a8dc-05afcb555780"
      },
      "outputs": [
        {
          "data": {
            "text/plain": [
              "employee          int64\n",
              "companyAlias     object\n",
              "commentId        object\n",
              "txt              object\n",
              "likes           float64\n",
              "dislikes        float64\n",
              "commentDate      object\n",
              "dtype: object"
            ]
          },
          "execution_count": 23,
          "metadata": {},
          "output_type": "execute_result"
        }
      ],
      "source": [
        "df_comments_clean_anonimized.dtypes"
      ]
    },
    {
      "cell_type": "markdown",
      "metadata": {
        "id": "9_tVt1j0luZn"
      },
      "source": [
        "df_comment_interactions:\n",
        "\n",
        "- employee: Tipo Indefinido (apesar de ser um Int, é uma chave sem significado)\n",
        "- companyAlias: Tipo Indefinido\n",
        "- commentId: Tipo Indefinido\n",
        "- liked: Binária (Bool)\n",
        "- disliked: Binária (Bool)\n"
      ]
    },
    {
      "cell_type": "code",
      "execution_count": 24,
      "metadata": {
        "colab": {
          "base_uri": "https://localhost:8080/",
          "height": 78
        },
        "id": "6Hd4z4SXluZn",
        "outputId": "fe779b8c-fd3e-42f4-cef2-73eeff171b46"
      },
      "outputs": [
        {
          "data": {
            "text/html": [
              "<div>\n",
              "<style scoped>\n",
              "    .dataframe tbody tr th:only-of-type {\n",
              "        vertical-align: middle;\n",
              "    }\n",
              "\n",
              "    .dataframe tbody tr th {\n",
              "        vertical-align: top;\n",
              "    }\n",
              "\n",
              "    .dataframe thead th {\n",
              "        text-align: right;\n",
              "    }\n",
              "</style>\n",
              "<table border=\"1\" class=\"dataframe\">\n",
              "  <thead>\n",
              "    <tr style=\"text-align: right;\">\n",
              "      <th></th>\n",
              "      <th>employee</th>\n",
              "      <th>companyAlias</th>\n",
              "      <th>liked</th>\n",
              "      <th>disliked</th>\n",
              "      <th>commentId</th>\n",
              "    </tr>\n",
              "  </thead>\n",
              "  <tbody>\n",
              "    <tr>\n",
              "      <th>0</th>\n",
              "      <td>307</td>\n",
              "      <td>56aec740f1ef260003e307d6</td>\n",
              "      <td>True</td>\n",
              "      <td>False</td>\n",
              "      <td>58d018d7e010990004e38070</td>\n",
              "    </tr>\n",
              "  </tbody>\n",
              "</table>\n",
              "</div>"
            ],
            "text/plain": [
              "   employee              companyAlias liked disliked                 commentId\n",
              "0       307  56aec740f1ef260003e307d6  True    False  58d018d7e010990004e38070"
            ]
          },
          "execution_count": 24,
          "metadata": {},
          "output_type": "execute_result"
        }
      ],
      "source": [
        "df_comment_interactions.head(1)"
      ]
    },
    {
      "cell_type": "code",
      "execution_count": 25,
      "metadata": {
        "colab": {
          "base_uri": "https://localhost:8080/"
        },
        "id": "ziB2wQBnluZn",
        "outputId": "c16f263a-b40c-4510-afb3-f8a9e82bbd14"
      },
      "outputs": [
        {
          "data": {
            "text/plain": [
              "employee         int64\n",
              "companyAlias    object\n",
              "liked           object\n",
              "disliked        object\n",
              "commentId       object\n",
              "dtype: object"
            ]
          },
          "execution_count": 25,
          "metadata": {},
          "output_type": "execute_result"
        }
      ],
      "source": [
        "df_comment_interactions.dtypes"
      ]
    },
    {
      "cell_type": "markdown",
      "metadata": {
        "id": "3msun5IfluZn"
      },
      "source": [
        "b) Existe alguma conversão de tipo que precisa ser feita (string para datas / float para int / etc.)? Aproveite esse momento para realizar as conversões necessárias de modo que a gente consiga analisar as faixas de valor dos dados de forma apropriada.\n",
        "\n",
        "Dica 1: para as datas, consulte https://docs.python.org/3/library/datetime.html#strftime-and-strptime-format-codes .\n",
        "\n",
        "Dica 2: nesse dataset, as datas estão na timezone CET e algumas no horário de verão (CEST). Como o Pandas não reconhece o formato CEST, sugiro substituir o CEST por EET, um outro fuso com a mesma quantidade de horas de diferença.\n",
        "\n",
        "Dica 3: após a conversão usando o pd.to_datetime(), aplique o mapping .map(lambda x: x.tz_convert(None)) para converter para a timezone UTC (padrão). Isso evitará erros na frente."
      ]
    },
    {
      "cell_type": "markdown",
      "metadata": {
        "id": "8dQh7k-UluZo"
      },
      "source": [
        "<u>Resp: sim, as datas precisam ser convertidas para formato de data e o campo employee_interaction deveria ser int ao invés de float.</u>"
      ]
    },
    {
      "cell_type": "code",
      "execution_count": 26,
      "metadata": {
        "id": "WyYSaL8SluZo"
      },
      "outputs": [],
      "source": [
        "# pd.to_datetime(\"Mon Mar 20 19:00:17 CEST 2017\", format=\"%a %b %d %X %Z %Y\")"
      ]
    },
    {
      "cell_type": "code",
      "execution_count": 27,
      "metadata": {
        "colab": {
          "base_uri": "https://localhost:8080/"
        },
        "id": "_DxHjeQHluZo",
        "outputId": "23079af7-6f1c-4670-f114-10db79ae7cbb"
      },
      "outputs": [
        {
          "data": {
            "text/plain": [
              "Timestamp('2017-03-20 17:00:17')"
            ]
          },
          "execution_count": 27,
          "metadata": {},
          "output_type": "execute_result"
        }
      ],
      "source": [
        "pd.to_datetime(\"Mon Mar 20 19:00:17 EET 2017\", format=\"%a %b %d %X %Z %Y\").tz_convert(None)"
      ]
    },
    {
      "cell_type": "code",
      "execution_count": 28,
      "metadata": {
        "id": "6A82IPhmluZo"
      },
      "outputs": [],
      "source": [
        "df_churn.lastParticipationDate = df_churn.lastParticipationDate.astype(str).map(lambda x: x.replace(\"CEST\", \"EET\"))\n",
        "df_votes.voteDate = df_votes.voteDate.astype(str).map(lambda x: x.replace(\"CEST\", \"EET\"))\n",
        "df_comments_clean_anonimized.commentDate = df_comments_clean_anonimized.commentDate.astype(str).map(lambda x: x.replace(\"CEST\", \"EET\"))"
      ]
    },
    {
      "cell_type": "code",
      "execution_count": 29,
      "metadata": {
        "colab": {
          "base_uri": "https://localhost:8080/"
        },
        "id": "C3PlvJzSluZo",
        "outputId": "051c625e-f180-4ee4-d55d-72d239fc6707"
      },
      "outputs": [
        {
          "data": {
            "text/plain": [
              "0       Thu Feb 23 12:48:04 CET 2017\n",
              "1       Wed Jan 18 14:00:55 CET 2017\n",
              "2       Fri Mar 17 01:00:00 CET 2017\n",
              "3       Sat Nov 19 15:02:14 CET 2016\n",
              "4       Thu Feb 16 01:00:00 CET 2017\n",
              "                    ...             \n",
              "4842    Fri Mar 17 15:43:58 CET 2017\n",
              "4843    Fri Mar 17 17:00:00 CET 2017\n",
              "4844    Fri Mar 17 17:01:54 CET 2017\n",
              "4845    Tue Jun 28 02:00:00 EET 2016\n",
              "4846    Mon Jul 04 19:02:03 EET 2016\n",
              "Name: lastParticipationDate, Length: 4847, dtype: object"
            ]
          },
          "execution_count": 29,
          "metadata": {},
          "output_type": "execute_result"
        }
      ],
      "source": [
        "df_churn.lastParticipationDate"
      ]
    },
    {
      "cell_type": "code",
      "execution_count": 30,
      "metadata": {
        "id": "fRdHka9wluZo"
      },
      "outputs": [],
      "source": [
        "df_churn.lastParticipationDate = pd.to_datetime(df_churn.lastParticipationDate, format=\"%a %b %d %X %Z %Y\").map(lambda x: x.tz_convert(None))\n",
        "df_votes.voteDate = pd.to_datetime(df_votes.voteDate, format=\"%a %b %d %X %Z %Y\").map(lambda x: x.tz_convert(None))\n",
        "df_comments_clean_anonimized.commentDate = pd.to_datetime(df_comments_clean_anonimized.commentDate, format=\"%a %b %d %X %Z %Y\").map(lambda x: x.tz_convert(None))"
      ]
    },
    {
      "cell_type": "code",
      "execution_count": 31,
      "metadata": {
        "colab": {
          "base_uri": "https://localhost:8080/",
          "height": 198
        },
        "id": "L-6mJZ6mluZp",
        "outputId": "7eb44921-00d5-4631-8e0f-5ad71722f4f6"
      },
      "outputs": [
        {
          "data": {
            "text/html": [
              "<div>\n",
              "<style scoped>\n",
              "    .dataframe tbody tr th:only-of-type {\n",
              "        vertical-align: middle;\n",
              "    }\n",
              "\n",
              "    .dataframe tbody tr th {\n",
              "        vertical-align: top;\n",
              "    }\n",
              "\n",
              "    .dataframe thead th {\n",
              "        text-align: right;\n",
              "    }\n",
              "</style>\n",
              "<table border=\"1\" class=\"dataframe\">\n",
              "  <thead>\n",
              "    <tr style=\"text-align: right;\">\n",
              "      <th></th>\n",
              "      <th>employee</th>\n",
              "      <th>companyAlias</th>\n",
              "      <th>numVotes</th>\n",
              "      <th>lastParticipationDate</th>\n",
              "      <th>stillExists</th>\n",
              "    </tr>\n",
              "  </thead>\n",
              "  <tbody>\n",
              "    <tr>\n",
              "      <th>0</th>\n",
              "      <td>512</td>\n",
              "      <td>56aec740f1ef260003e307d6</td>\n",
              "      <td>4</td>\n",
              "      <td>2017-02-23 11:48:04</td>\n",
              "      <td>True</td>\n",
              "    </tr>\n",
              "    <tr>\n",
              "      <th>1</th>\n",
              "      <td>-2</td>\n",
              "      <td>56aec740f1ef260003e307d6</td>\n",
              "      <td>0</td>\n",
              "      <td>2017-01-18 13:00:55</td>\n",
              "      <td>False</td>\n",
              "    </tr>\n",
              "    <tr>\n",
              "      <th>2</th>\n",
              "      <td>2</td>\n",
              "      <td>56aec740f1ef260003e307d6</td>\n",
              "      <td>72</td>\n",
              "      <td>2017-03-17 00:00:00</td>\n",
              "      <td>True</td>\n",
              "    </tr>\n",
              "    <tr>\n",
              "      <th>3</th>\n",
              "      <td>487</td>\n",
              "      <td>56aec740f1ef260003e307d6</td>\n",
              "      <td>14</td>\n",
              "      <td>2016-11-19 14:02:14</td>\n",
              "      <td>False</td>\n",
              "    </tr>\n",
              "    <tr>\n",
              "      <th>4</th>\n",
              "      <td>3</td>\n",
              "      <td>56aec740f1ef260003e307d6</td>\n",
              "      <td>22</td>\n",
              "      <td>2017-02-16 00:00:00</td>\n",
              "      <td>True</td>\n",
              "    </tr>\n",
              "  </tbody>\n",
              "</table>\n",
              "</div>"
            ],
            "text/plain": [
              "   employee              companyAlias  numVotes lastParticipationDate  \\\n",
              "0       512  56aec740f1ef260003e307d6         4   2017-02-23 11:48:04   \n",
              "1        -2  56aec740f1ef260003e307d6         0   2017-01-18 13:00:55   \n",
              "2         2  56aec740f1ef260003e307d6        72   2017-03-17 00:00:00   \n",
              "3       487  56aec740f1ef260003e307d6        14   2016-11-19 14:02:14   \n",
              "4         3  56aec740f1ef260003e307d6        22   2017-02-16 00:00:00   \n",
              "\n",
              "   stillExists  \n",
              "0         True  \n",
              "1        False  \n",
              "2         True  \n",
              "3        False  \n",
              "4         True  "
            ]
          },
          "execution_count": 31,
          "metadata": {},
          "output_type": "execute_result"
        }
      ],
      "source": [
        "df_churn.head()"
      ]
    },
    {
      "cell_type": "code",
      "execution_count": 32,
      "metadata": {
        "id": "GLTvQiIYluZp"
      },
      "outputs": [],
      "source": [
        "def bool2int(df):\n",
        "    bool_cols = df.select_dtypes('bool').columns\n",
        "    for col in bool_cols:\n",
        "        df[col] = df[col].map(lambda x: 1 if x is True else 0)\n",
        "    return df"
      ]
    },
    {
      "cell_type": "code",
      "execution_count": 33,
      "metadata": {
        "id": "EZKDKq98luZp"
      },
      "outputs": [],
      "source": [
        "df_churn = bool2int(df_churn)"
      ]
    },
    {
      "cell_type": "code",
      "execution_count": 34,
      "metadata": {
        "id": "RUjY6IYBluZp"
      },
      "outputs": [],
      "source": [
        "df_votes = bool2int(df_votes)"
      ]
    },
    {
      "cell_type": "code",
      "execution_count": 35,
      "metadata": {
        "id": "c8Rz3U2GluZp"
      },
      "outputs": [],
      "source": [
        "df_comment_interactions.liked=df_comment_interactions.liked.map(bool)\n",
        "df_comment_interactions.disliked=df_comment_interactions.disliked.map(bool)"
      ]
    },
    {
      "cell_type": "code",
      "execution_count": 36,
      "metadata": {
        "id": "k7CaYdOzluZp"
      },
      "outputs": [],
      "source": [
        "df_comment_interactions = bool2int(df_comment_interactions)"
      ]
    },
    {
      "cell_type": "code",
      "execution_count": 37,
      "metadata": {
        "id": "8JREZXDwluZq"
      },
      "outputs": [],
      "source": [
        "df_comments_clean_anonimized = bool2int(df_comments_clean_anonimized)"
      ]
    },
    {
      "cell_type": "code",
      "execution_count": 38,
      "metadata": {
        "colab": {
          "base_uri": "https://localhost:8080/",
          "height": 198
        },
        "id": "Sbux57kDluZq",
        "outputId": "7461b833-2d00-4b07-aa85-239d89ea0246"
      },
      "outputs": [
        {
          "data": {
            "text/html": [
              "<div>\n",
              "<style scoped>\n",
              "    .dataframe tbody tr th:only-of-type {\n",
              "        vertical-align: middle;\n",
              "    }\n",
              "\n",
              "    .dataframe tbody tr th {\n",
              "        vertical-align: top;\n",
              "    }\n",
              "\n",
              "    .dataframe thead th {\n",
              "        text-align: right;\n",
              "    }\n",
              "</style>\n",
              "<table border=\"1\" class=\"dataframe\">\n",
              "  <thead>\n",
              "    <tr style=\"text-align: right;\">\n",
              "      <th></th>\n",
              "      <th>employee</th>\n",
              "      <th>companyAlias</th>\n",
              "      <th>liked</th>\n",
              "      <th>disliked</th>\n",
              "      <th>commentId</th>\n",
              "    </tr>\n",
              "  </thead>\n",
              "  <tbody>\n",
              "    <tr>\n",
              "      <th>0</th>\n",
              "      <td>307</td>\n",
              "      <td>56aec740f1ef260003e307d6</td>\n",
              "      <td>1</td>\n",
              "      <td>0</td>\n",
              "      <td>58d018d7e010990004e38070</td>\n",
              "    </tr>\n",
              "    <tr>\n",
              "      <th>1</th>\n",
              "      <td>36</td>\n",
              "      <td>56aec740f1ef260003e307d6</td>\n",
              "      <td>1</td>\n",
              "      <td>0</td>\n",
              "      <td>58d018d7e010990004e38070</td>\n",
              "    </tr>\n",
              "    <tr>\n",
              "      <th>2</th>\n",
              "      <td>276</td>\n",
              "      <td>56aec740f1ef260003e307d6</td>\n",
              "      <td>1</td>\n",
              "      <td>0</td>\n",
              "      <td>58d018d7e010990004e38070</td>\n",
              "    </tr>\n",
              "    <tr>\n",
              "      <th>3</th>\n",
              "      <td>24</td>\n",
              "      <td>56aec740f1ef260003e307d6</td>\n",
              "      <td>1</td>\n",
              "      <td>0</td>\n",
              "      <td>58d018d7e010990004e38070</td>\n",
              "    </tr>\n",
              "    <tr>\n",
              "      <th>4</th>\n",
              "      <td>382</td>\n",
              "      <td>56aec740f1ef260003e307d6</td>\n",
              "      <td>1</td>\n",
              "      <td>0</td>\n",
              "      <td>58d0179ae010990004e3806d</td>\n",
              "    </tr>\n",
              "  </tbody>\n",
              "</table>\n",
              "</div>"
            ],
            "text/plain": [
              "   employee              companyAlias  liked  disliked  \\\n",
              "0       307  56aec740f1ef260003e307d6      1         0   \n",
              "1        36  56aec740f1ef260003e307d6      1         0   \n",
              "2       276  56aec740f1ef260003e307d6      1         0   \n",
              "3        24  56aec740f1ef260003e307d6      1         0   \n",
              "4       382  56aec740f1ef260003e307d6      1         0   \n",
              "\n",
              "                  commentId  \n",
              "0  58d018d7e010990004e38070  \n",
              "1  58d018d7e010990004e38070  \n",
              "2  58d018d7e010990004e38070  \n",
              "3  58d018d7e010990004e38070  \n",
              "4  58d0179ae010990004e3806d  "
            ]
          },
          "execution_count": 38,
          "metadata": {},
          "output_type": "execute_result"
        }
      ],
      "source": [
        "df_comment_interactions.head()"
      ]
    },
    {
      "cell_type": "markdown",
      "metadata": {
        "id": "VCYho_F95HsC",
        "outputId": "b3cfb3cc-5441-49d0-8595-13212313f89d"
      },
      "source": [
        "b) Qual a faixa de valores de cada uma delas?"
      ]
    },
    {
      "cell_type": "code",
      "execution_count": 39,
      "metadata": {
        "colab": {
          "base_uri": "https://localhost:8080/",
          "height": 288
        },
        "id": "bpr598GH_b-R",
        "outputId": "e3698c30-8e53-4de5-e413-33a29a37d093"
      },
      "outputs": [
        {
          "data": {
            "text/html": [
              "<div>\n",
              "<style scoped>\n",
              "    .dataframe tbody tr th:only-of-type {\n",
              "        vertical-align: middle;\n",
              "    }\n",
              "\n",
              "    .dataframe tbody tr th {\n",
              "        vertical-align: top;\n",
              "    }\n",
              "\n",
              "    .dataframe thead th {\n",
              "        text-align: right;\n",
              "    }\n",
              "</style>\n",
              "<table border=\"1\" class=\"dataframe\">\n",
              "  <thead>\n",
              "    <tr style=\"text-align: right;\">\n",
              "      <th></th>\n",
              "      <th>employee</th>\n",
              "      <th>numVotes</th>\n",
              "      <th>stillExists</th>\n",
              "    </tr>\n",
              "  </thead>\n",
              "  <tbody>\n",
              "    <tr>\n",
              "      <th>count</th>\n",
              "      <td>4847.000000</td>\n",
              "      <td>4847.000000</td>\n",
              "      <td>4847.000000</td>\n",
              "    </tr>\n",
              "    <tr>\n",
              "      <th>mean</th>\n",
              "      <td>167.375490</td>\n",
              "      <td>45.896431</td>\n",
              "      <td>0.757788</td>\n",
              "    </tr>\n",
              "    <tr>\n",
              "      <th>std</th>\n",
              "      <td>208.271041</td>\n",
              "      <td>71.302128</td>\n",
              "      <td>0.428466</td>\n",
              "    </tr>\n",
              "    <tr>\n",
              "      <th>min</th>\n",
              "      <td>-218.000000</td>\n",
              "      <td>0.000000</td>\n",
              "      <td>0.000000</td>\n",
              "    </tr>\n",
              "    <tr>\n",
              "      <th>25%</th>\n",
              "      <td>33.000000</td>\n",
              "      <td>3.000000</td>\n",
              "      <td>1.000000</td>\n",
              "    </tr>\n",
              "    <tr>\n",
              "      <th>50%</th>\n",
              "      <td>113.000000</td>\n",
              "      <td>16.000000</td>\n",
              "      <td>1.000000</td>\n",
              "    </tr>\n",
              "    <tr>\n",
              "      <th>75%</th>\n",
              "      <td>231.000000</td>\n",
              "      <td>59.000000</td>\n",
              "      <td>1.000000</td>\n",
              "    </tr>\n",
              "    <tr>\n",
              "      <th>max</th>\n",
              "      <td>999.000000</td>\n",
              "      <td>740.000000</td>\n",
              "      <td>1.000000</td>\n",
              "    </tr>\n",
              "  </tbody>\n",
              "</table>\n",
              "</div>"
            ],
            "text/plain": [
              "          employee     numVotes  stillExists\n",
              "count  4847.000000  4847.000000  4847.000000\n",
              "mean    167.375490    45.896431     0.757788\n",
              "std     208.271041    71.302128     0.428466\n",
              "min    -218.000000     0.000000     0.000000\n",
              "25%      33.000000     3.000000     1.000000\n",
              "50%     113.000000    16.000000     1.000000\n",
              "75%     231.000000    59.000000     1.000000\n",
              "max     999.000000   740.000000     1.000000"
            ]
          },
          "execution_count": 39,
          "metadata": {},
          "output_type": "execute_result"
        }
      ],
      "source": [
        "df_churn.describe()"
      ]
    },
    {
      "cell_type": "code",
      "execution_count": 40,
      "metadata": {
        "colab": {
          "base_uri": "https://localhost:8080/"
        },
        "id": "GYG-yuZkluZq",
        "outputId": "1a3998e0-1cbc-47df-c548-ae4debea85e8"
      },
      "outputs": [
        {
          "data": {
            "text/plain": [
              "(4847, 5)"
            ]
          },
          "execution_count": 40,
          "metadata": {},
          "output_type": "execute_result"
        }
      ],
      "source": [
        "df_churn.shape"
      ]
    },
    {
      "cell_type": "code",
      "execution_count": 41,
      "metadata": {
        "id": "q4SggErGluZr"
      },
      "outputs": [],
      "source": [
        "df_churn = df_churn.loc[df_churn.employee>=0]\n",
        "df_votes = df_votes.loc[df_votes.employee>=0]\n",
        "df_comment_interactions = df_comment_interactions.loc[df_comment_interactions.employee>=0]\n",
        "df_comments_clean_anonimized = df_comments_clean_anonimized.loc[df_comments_clean_anonimized.employee>=0]"
      ]
    },
    {
      "cell_type": "code",
      "execution_count": 42,
      "metadata": {
        "colab": {
          "base_uri": "https://localhost:8080/"
        },
        "id": "TMbniobuluZr",
        "outputId": "efd258ab-8a5d-4b6e-9289-052f6f0a2039"
      },
      "outputs": [
        {
          "data": {
            "text/plain": [
              "(4418, 5)"
            ]
          },
          "execution_count": 42,
          "metadata": {},
          "output_type": "execute_result"
        }
      ],
      "source": [
        "df_churn.shape"
      ]
    },
    {
      "cell_type": "code",
      "execution_count": 43,
      "metadata": {
        "colab": {
          "base_uri": "https://localhost:8080/"
        },
        "id": "gg8nKCTvluZr",
        "outputId": "ba190373-c7ac-48da-fbec-b9c2d7e0fff2"
      },
      "outputs": [
        {
          "data": {
            "text/plain": [
              "37"
            ]
          },
          "execution_count": 43,
          "metadata": {},
          "output_type": "execute_result"
        }
      ],
      "source": [
        "df_churn.companyAlias.nunique()"
      ]
    },
    {
      "cell_type": "code",
      "execution_count": 50,
      "metadata": {
        "colab": {
          "base_uri": "https://localhost:8080/",
          "height": 542
        },
        "id": "OjLa9RU7luZr",
        "outputId": "b25494dc-600b-4ab1-bc47-8810a5fe5272"
      },
      "outputs": [
        {
          "ename": "ValueError",
          "evalue": "Mime type rendering requires nbformat>=4.2.0 but it is not installed",
          "output_type": "error",
          "traceback": [
            "\u001b[1;31m---------------------------------------------------------------------------\u001b[0m",
            "\u001b[1;31mValueError\u001b[0m                                Traceback (most recent call last)",
            "\u001b[1;32m~\\AppData\\Local\\Temp/ipykernel_8652/535888144.py\u001b[0m in \u001b[0;36m<module>\u001b[1;34m\u001b[0m\n\u001b[0;32m      6\u001b[0m \u001b[1;31m#df.loc[df['bene_count_ge65'] < 200, 'bene_count_ge65'].dropna().hist(bins=20)\u001b[0m\u001b[1;33m\u001b[0m\u001b[1;33m\u001b[0m\u001b[0m\n\u001b[0;32m      7\u001b[0m \u001b[0mfig\u001b[0m \u001b[1;33m=\u001b[0m \u001b[0mpx\u001b[0m\u001b[1;33m.\u001b[0m\u001b[0mhistogram\u001b[0m\u001b[1;33m(\u001b[0m\u001b[0mdf_churn\u001b[0m\u001b[1;33m,\u001b[0m \u001b[0mx\u001b[0m\u001b[1;33m=\u001b[0m\u001b[1;34m\"companyAlias\"\u001b[0m\u001b[1;33m)\u001b[0m\u001b[1;33m\u001b[0m\u001b[1;33m\u001b[0m\u001b[0m\n\u001b[1;32m----> 8\u001b[1;33m \u001b[0mfig\u001b[0m\u001b[1;33m.\u001b[0m\u001b[0mshow\u001b[0m\u001b[1;33m(\u001b[0m\u001b[1;33m)\u001b[0m\u001b[1;33m\u001b[0m\u001b[1;33m\u001b[0m\u001b[0m\n\u001b[0m",
            "\u001b[1;32m~\\AppData\\Local\\Packages\\PythonSoftwareFoundation.Python.3.9_qbz5n2kfra8p0\\LocalCache\\local-packages\\Python39\\site-packages\\plotly\\basedatatypes.py\u001b[0m in \u001b[0;36mshow\u001b[1;34m(self, *args, **kwargs)\u001b[0m\n\u001b[0;32m   3396\u001b[0m         \u001b[1;32mimport\u001b[0m \u001b[0mplotly\u001b[0m\u001b[1;33m.\u001b[0m\u001b[0mio\u001b[0m \u001b[1;32mas\u001b[0m \u001b[0mpio\u001b[0m\u001b[1;33m\u001b[0m\u001b[1;33m\u001b[0m\u001b[0m\n\u001b[0;32m   3397\u001b[0m \u001b[1;33m\u001b[0m\u001b[0m\n\u001b[1;32m-> 3398\u001b[1;33m         \u001b[1;32mreturn\u001b[0m \u001b[0mpio\u001b[0m\u001b[1;33m.\u001b[0m\u001b[0mshow\u001b[0m\u001b[1;33m(\u001b[0m\u001b[0mself\u001b[0m\u001b[1;33m,\u001b[0m \u001b[1;33m*\u001b[0m\u001b[0margs\u001b[0m\u001b[1;33m,\u001b[0m \u001b[1;33m**\u001b[0m\u001b[0mkwargs\u001b[0m\u001b[1;33m)\u001b[0m\u001b[1;33m\u001b[0m\u001b[1;33m\u001b[0m\u001b[0m\n\u001b[0m\u001b[0;32m   3399\u001b[0m \u001b[1;33m\u001b[0m\u001b[0m\n\u001b[0;32m   3400\u001b[0m     \u001b[1;32mdef\u001b[0m \u001b[0mto_json\u001b[0m\u001b[1;33m(\u001b[0m\u001b[0mself\u001b[0m\u001b[1;33m,\u001b[0m \u001b[1;33m*\u001b[0m\u001b[0margs\u001b[0m\u001b[1;33m,\u001b[0m \u001b[1;33m**\u001b[0m\u001b[0mkwargs\u001b[0m\u001b[1;33m)\u001b[0m\u001b[1;33m:\u001b[0m\u001b[1;33m\u001b[0m\u001b[1;33m\u001b[0m\u001b[0m\n",
            "\u001b[1;32m~\\AppData\\Local\\Packages\\PythonSoftwareFoundation.Python.3.9_qbz5n2kfra8p0\\LocalCache\\local-packages\\Python39\\site-packages\\plotly\\io\\_renderers.py\u001b[0m in \u001b[0;36mshow\u001b[1;34m(fig, renderer, validate, **kwargs)\u001b[0m\n\u001b[0;32m    395\u001b[0m \u001b[1;33m\u001b[0m\u001b[0m\n\u001b[0;32m    396\u001b[0m         \u001b[1;32mif\u001b[0m \u001b[1;32mnot\u001b[0m \u001b[0mnbformat\u001b[0m \u001b[1;32mor\u001b[0m \u001b[0mLooseVersion\u001b[0m\u001b[1;33m(\u001b[0m\u001b[0mnbformat\u001b[0m\u001b[1;33m.\u001b[0m\u001b[0m__version__\u001b[0m\u001b[1;33m)\u001b[0m \u001b[1;33m<\u001b[0m \u001b[0mLooseVersion\u001b[0m\u001b[1;33m(\u001b[0m\u001b[1;34m\"4.2.0\"\u001b[0m\u001b[1;33m)\u001b[0m\u001b[1;33m:\u001b[0m\u001b[1;33m\u001b[0m\u001b[1;33m\u001b[0m\u001b[0m\n\u001b[1;32m--> 397\u001b[1;33m             raise ValueError(\n\u001b[0m\u001b[0;32m    398\u001b[0m                 \u001b[1;34m\"Mime type rendering requires nbformat>=4.2.0 but it is not installed\"\u001b[0m\u001b[1;33m\u001b[0m\u001b[1;33m\u001b[0m\u001b[0m\n\u001b[0;32m    399\u001b[0m             )\n",
            "\u001b[1;31mValueError\u001b[0m: Mime type rendering requires nbformat>=4.2.0 but it is not installed"
          ]
        }
      ],
      "source": [
        "import plotly.express as px\n",
        "#import matplotlib.pyplot as plt\n",
        "# Here we use a column with categorical data\n",
        "#df_churn['companyAlias'].hist()\n",
        "#plt.xticks(rotation=1)\n",
        "#df.loc[df['bene_count_ge65'] < 200, 'bene_count_ge65'].dropna().hist(bins=20)\n",
        "fig = px.histogram(df_churn, x=\"companyAlias\")\n",
        "fig.show()"
      ]
    },
    {
      "cell_type": "code",
      "execution_count": null,
      "metadata": {
        "colab": {
          "base_uri": "https://localhost:8080/"
        },
        "id": "RP1ATPUrluZr",
        "outputId": "ecf33dd7-00e2-482a-ca8a-f8d5da9881aa"
      },
      "outputs": [],
      "source": [
        "df_churn.lastParticipationDate.describe()"
      ]
    },
    {
      "cell_type": "code",
      "execution_count": null,
      "metadata": {
        "colab": {
          "base_uri": "https://localhost:8080/",
          "height": 542
        },
        "id": "2tTEWDnZluZs",
        "outputId": "a4ef2d2c-f5d4-4214-c332-fbcb60e7b3eb"
      },
      "outputs": [],
      "source": [
        "# Using plotly.express\n",
        "import plotly.express as px\n",
        "\n",
        "fig = px.histogram(df_churn, x=\"lastParticipationDate\")\n",
        "fig.show()"
      ]
    },
    {
      "cell_type": "code",
      "execution_count": null,
      "metadata": {
        "colab": {
          "base_uri": "https://localhost:8080/",
          "height": 315
        },
        "id": "FTQbmSmMluZs",
        "outputId": "fddb6208-c012-47a2-8e95-ee01979bb132"
      },
      "outputs": [],
      "source": [
        "df_churn[['numVotes']].hist(bins=20)"
      ]
    },
    {
      "cell_type": "code",
      "execution_count": null,
      "metadata": {
        "colab": {
          "base_uri": "https://localhost:8080/",
          "height": 288
        },
        "id": "uRYxr3CLluZs",
        "outputId": "b70722bf-7c3f-464f-cad3-82a4bf08f0a1"
      },
      "outputs": [],
      "source": [
        "df_votes.describe()"
      ]
    },
    {
      "cell_type": "code",
      "execution_count": null,
      "metadata": {
        "id": "3a1cdQAJluZs"
      },
      "outputs": [],
      "source": [
        "df_votes.vote=df_votes.vote.map(int)"
      ]
    },
    {
      "cell_type": "code",
      "execution_count": null,
      "metadata": {
        "colab": {
          "base_uri": "https://localhost:8080/",
          "height": 542
        },
        "id": "YPOb4BlZluZs",
        "outputId": "6a9ae13f-f7c3-4bf2-d9cf-039a8b51a703"
      },
      "outputs": [],
      "source": [
        "import plotly.express as px\n",
        "# Here we use a column with categorical data\n",
        "fig = px.histogram(df_votes, x=\"vote\")\n",
        "fig.show()"
      ]
    },
    {
      "cell_type": "code",
      "execution_count": null,
      "metadata": {
        "id": "PaICDiwCluZt"
      },
      "outputs": [],
      "source": [
        "# Using plotly.express\n",
        "fig = px.histogram(df_votes, x=\"voteDate\")\n",
        "fig.show()"
      ]
    },
    {
      "cell_type": "code",
      "execution_count": null,
      "metadata": {
        "colab": {
          "base_uri": "https://localhost:8080/",
          "height": 288
        },
        "id": "gZg4WTNqluZ0",
        "outputId": "c9b95f2d-caa5-4aed-ebde-ad20ea5433fe"
      },
      "outputs": [],
      "source": [
        "df_comments_clean_anonimized.describe()"
      ]
    },
    {
      "cell_type": "code",
      "execution_count": null,
      "metadata": {
        "colab": {
          "base_uri": "https://localhost:8080/",
          "height": 315
        },
        "id": "3L3Ka0i9luZ0",
        "outputId": "e2a29d73-7963-4aea-b7a0-4e2e1508f9b6"
      },
      "outputs": [],
      "source": [
        "df_comments_clean_anonimized[['likes']].hist(bins=20)"
      ]
    },
    {
      "cell_type": "code",
      "execution_count": null,
      "metadata": {
        "colab": {
          "base_uri": "https://localhost:8080/",
          "height": 315
        },
        "id": "5bnG74WsluZ1",
        "outputId": "126ae042-c183-43c4-d892-f6959924d02d"
      },
      "outputs": [],
      "source": [
        "df_comments_clean_anonimized[['dislikes']].hist(bins=20)"
      ]
    },
    {
      "cell_type": "code",
      "execution_count": null,
      "metadata": {
        "colab": {
          "base_uri": "https://localhost:8080/",
          "height": 542
        },
        "id": "IV0K0hUZluZ1",
        "outputId": "46df047b-509e-4513-f2de-0d83ff8dd5b0"
      },
      "outputs": [],
      "source": [
        "# Using plotly.express\n",
        "fig = px.histogram(df_comments_clean_anonimized, x=\"commentDate\")\n",
        "fig.show()"
      ]
    },
    {
      "cell_type": "markdown",
      "metadata": {
        "id": "qVCrPvIaluZ2"
      },
      "source": [
        "e) Existem registros duplicados em alguma base (use o .drop_duplicates())? Se houver, elimine-os."
      ]
    },
    {
      "cell_type": "code",
      "execution_count": null,
      "metadata": {
        "colab": {
          "base_uri": "https://localhost:8080/"
        },
        "id": "-gMbDIyUluZ2",
        "outputId": "02473102-b879-49bb-eeb1-f8ec5030f2fd"
      },
      "outputs": [],
      "source": [
        "df_votes.shape"
      ]
    },
    {
      "cell_type": "code",
      "execution_count": null,
      "metadata": {
        "colab": {
          "base_uri": "https://localhost:8080/"
        },
        "id": "IMAjAbstluZ2",
        "outputId": "52295452-dd94-4bf8-d42b-dbf364471611"
      },
      "outputs": [],
      "source": [
        "df_votes = df_votes.drop_duplicates()\n",
        "df_votes.shape"
      ]
    },
    {
      "cell_type": "code",
      "execution_count": null,
      "metadata": {
        "colab": {
          "base_uri": "https://localhost:8080/"
        },
        "id": "TmPhLLo9luZ2",
        "outputId": "1d99c300-0b81-4ff7-b087-0471c6daeb50"
      },
      "outputs": [],
      "source": [
        "df_comments_clean_anonimized = df_comments_clean_anonimized.drop_duplicates()\n",
        "df_comments_clean_anonimized.shape"
      ]
    },
    {
      "cell_type": "code",
      "execution_count": null,
      "metadata": {
        "colab": {
          "base_uri": "https://localhost:8080/"
        },
        "id": "kAS-9QzqluZ3",
        "outputId": "db652aff-d763-464a-8fbf-417a6a860111"
      },
      "outputs": [],
      "source": [
        "df_comment_interactions.shape"
      ]
    },
    {
      "cell_type": "code",
      "execution_count": null,
      "metadata": {
        "colab": {
          "base_uri": "https://localhost:8080/"
        },
        "id": "LhmohZVvluZ3",
        "outputId": "0e96e5d9-66fb-4cc1-d847-5f3d599c1dbd"
      },
      "outputs": [],
      "source": [
        "df_comment_interactions = df_comment_interactions.drop_duplicates()\n",
        "df_comment_interactions.shape"
      ]
    },
    {
      "cell_type": "markdown",
      "metadata": {
        "id": "srb04CJeluZ3"
      },
      "source": [
        "## Estruturando"
      ]
    },
    {
      "cell_type": "markdown",
      "metadata": {
        "id": "vmva1Iz3luZ3"
      },
      "source": [
        "Precisamos gerar uma base final com a estrtutura da df_churn, que cada registro é representado unicamente por cada employee e company.\n",
        "Vamos começar adaptando a base df_votes para essa estrutura. "
      ]
    },
    {
      "cell_type": "markdown",
      "metadata": {
        "id": "byZBuLUJluZ3"
      },
      "source": [
        "a) Precisaremos agregar a base df_votes por employee, company. Para isso, podemos criar métricas agregadas das variáveis vote e voteDate. \n",
        "\n",
        "Todavia, a variável voteDate ainda não está no formato de intervalo temporal. Para isso vamos precisar calcular a diferença dela para o nosso referencial (o lastParticipationDate), que se encontra na base df_churn.\n",
        "\n",
        "Junte (merge) os datasets a seguir por meio de suas chaves, criando esse novos dataset:\n",
        "- df_votes com df_churn (trazer somente a coluna lastParticipationDate) -> df_votes_merge"
      ]
    },
    {
      "cell_type": "code",
      "execution_count": null,
      "metadata": {
        "colab": {
          "base_uri": "https://localhost:8080/",
          "height": 198
        },
        "id": "ocB1o6EJluZ4",
        "outputId": "4571eae6-4ca1-45ad-8d91-16f7a61a6011"
      },
      "outputs": [],
      "source": [
        "df_votes_merge = df_churn[['employee', 'companyAlias', 'lastParticipationDate']].merge(df_votes,on=['employee', 'companyAlias'],how=\"left\")\n",
        "df_votes_merge.head()"
      ]
    },
    {
      "cell_type": "markdown",
      "metadata": {
        "id": "ZPaT47MoluZ4"
      },
      "source": [
        "b) Agora crie a variável qt_dias_diff_vote que represente a quantidade de dias de diferença entre voteDate e lastParticipationDate."
      ]
    },
    {
      "cell_type": "code",
      "execution_count": null,
      "metadata": {
        "colab": {
          "base_uri": "https://localhost:8080/"
        },
        "id": "lC3pyazlluZ4",
        "outputId": "f47b2130-3bd2-4af4-8149-d34055d7a965"
      },
      "outputs": [],
      "source": [
        "df_churn.dtypes"
      ]
    },
    {
      "cell_type": "code",
      "execution_count": null,
      "metadata": {
        "id": "YbRfyKsIluZ4"
      },
      "outputs": [],
      "source": [
        "df_votes_merge['qt_dias_diff_vote'] = (df_votes_merge.lastParticipationDate - df_votes_merge.voteDate).map(lambda x: x.components.days)"
      ]
    },
    {
      "cell_type": "code",
      "execution_count": null,
      "metadata": {
        "colab": {
          "base_uri": "https://localhost:8080/"
        },
        "id": "YN9AZaq_luZ4",
        "outputId": "396bffe9-d51f-440a-b0f3-8d354543a40f",
        "scrolled": true
      },
      "outputs": [],
      "source": [
        "df_votes_merge['qt_dias_diff_vote'].describe()"
      ]
    },
    {
      "cell_type": "markdown",
      "metadata": {
        "id": "yXy6b0uZluZ5"
      },
      "source": [
        "c) Veja quantos valores não-positivos existem na variável qt_dias_diff_vote e remova-os da base. Não podemos usar no modelo nenhuma informação que seja futura à nossa variável target (stillExists, mensurada após o lastParticipationDate)"
      ]
    },
    {
      "cell_type": "code",
      "execution_count": null,
      "metadata": {
        "colab": {
          "base_uri": "https://localhost:8080/"
        },
        "id": "cYdsG3HuluZ5",
        "outputId": "9352e204-a20d-453c-fc0f-e8972d3c827b"
      },
      "outputs": [],
      "source": [
        "df_votes_merge[df_votes_merge['qt_dias_diff_vote']<=0].shape"
      ]
    },
    {
      "cell_type": "code",
      "execution_count": null,
      "metadata": {
        "id": "2bW9P5r8luZ5"
      },
      "outputs": [],
      "source": [
        "df_votes_merge = df_votes_merge[df_votes_merge['qt_dias_diff_vote']>0]"
      ]
    },
    {
      "cell_type": "code",
      "execution_count": null,
      "metadata": {
        "colab": {
          "base_uri": "https://localhost:8080/"
        },
        "id": "9MZYcZUsluZ5",
        "outputId": "440587c6-8a85-42e1-c238-7028e0fc1d6d"
      },
      "outputs": [],
      "source": [
        "df_votes_merge.shape"
      ]
    },
    {
      "cell_type": "code",
      "execution_count": null,
      "metadata": {
        "colab": {
          "base_uri": "https://localhost:8080/",
          "height": 198
        },
        "id": "AI_ya-aqluZ5",
        "outputId": "4474001d-2ae7-4f74-c544-19e667b556b1"
      },
      "outputs": [],
      "source": [
        "df_votes_merge.head()"
      ]
    },
    {
      "cell_type": "code",
      "execution_count": null,
      "metadata": {
        "colab": {
          "base_uri": "https://localhost:8080/",
          "height": 542
        },
        "id": "aDXVdrvAluZ6",
        "outputId": "38996ff7-3e41-4f0e-eb99-2f41bfd18b5b"
      },
      "outputs": [],
      "source": [
        "# Using plotly.express\n",
        "fig = px.histogram(df_votes_merge, x=\"qt_dias_diff_vote\")\n",
        "fig.show()"
      ]
    },
    {
      "cell_type": "markdown",
      "metadata": {
        "id": "hk3QiCtCluZ6"
      },
      "source": [
        "d) Agora vamos agrupar a nossa base por <employee, companyAlias> e derivar as seguintes métricas:\n",
        "- vote: mean, mode (use a função abaixo), min, max, count\n",
        "- qt_dias_diff_vote: min, max, median\n",
        "\n",
        "    Chame essa nova base de df_votes_group. Lembre de dar um flat no nome das colunas."
      ]
    },
    {
      "cell_type": "code",
      "execution_count": null,
      "metadata": {
        "id": "HU5jJEX2luZ6"
      },
      "outputs": [],
      "source": [
        "def mode(x):\n",
        "    return pd.Series.mode(x)[0]"
      ]
    },
    {
      "cell_type": "code",
      "execution_count": null,
      "metadata": {
        "colab": {
          "base_uri": "https://localhost:8080/",
          "height": 228
        },
        "id": "bHMDdpMHluZ7",
        "outputId": "ae317dba-7dc0-473b-ff54-800cbb2d4a35"
      },
      "outputs": [],
      "source": [
        "df_votes_group = df_votes_merge.groupby(by=[\"employee\", \"companyAlias\"], as_index=False).agg({\n",
        "    'vote': ['mean', mode, 'min', 'max', 'count'],\n",
        "    'qt_dias_diff_vote': ['min', 'max', 'median']\n",
        "})\n",
        "df_votes_group.head()"
      ]
    },
    {
      "cell_type": "code",
      "execution_count": null,
      "metadata": {
        "id": "FdkgTdpxluZ7"
      },
      "outputs": [],
      "source": [
        "df_votes_group.columns = ['_'.join(col).strip() if col[1] != \"\" else col[0] for col in df_votes_group.columns.values]"
      ]
    },
    {
      "cell_type": "code",
      "execution_count": null,
      "metadata": {
        "colab": {
          "base_uri": "https://localhost:8080/",
          "height": 218
        },
        "id": "nFk-vZBuluZ7",
        "outputId": "9c9c3fee-8815-4eaf-9563-4ed3dcf49f2b"
      },
      "outputs": [],
      "source": [
        "df_votes_group.head()"
      ]
    },
    {
      "cell_type": "code",
      "execution_count": null,
      "metadata": {
        "colab": {
          "base_uri": "https://localhost:8080/"
        },
        "id": "WpoOW0TpluZ7",
        "outputId": "c7ef9486-bf1d-4e8b-d344-a7e0c445158e"
      },
      "outputs": [],
      "source": [
        "df_votes_group.shape"
      ]
    },
    {
      "cell_type": "markdown",
      "metadata": {
        "id": "oWENswoRluZ7"
      },
      "source": [
        "e) Agora vamos estruturar nossa base de comentários. Na parte 1 do nosso case, vamos ignorar a base de interações dos comentários e deixar ela para a parte 2.\n",
        "\n",
        "Essa base possui a variável commentDate, que ainda não está no formato de intervalo temporal. Para isso também vamos precisar calcular a diferença dela para o nosso referencial (o lastParticipationDate), que se encontra na base df_churn.\n",
        "\n",
        "Junte (merge) os datasets a seguir por meio de suas chaves, criando esse novos dataset:\n",
        "- df_comments_clean_anonimized com df_churn (trazer somente a coluna lastParticipationDate) -> df_comments_merge"
      ]
    },
    {
      "cell_type": "code",
      "execution_count": null,
      "metadata": {
        "colab": {
          "base_uri": "https://localhost:8080/",
          "height": 305
        },
        "id": "2-oMESxnluZ8",
        "outputId": "37f8c926-b4fe-42c3-9ff7-d5c263b11cee"
      },
      "outputs": [],
      "source": [
        "df_comments_merge = df_churn[['employee', 'companyAlias', 'lastParticipationDate']].merge(df_comments_clean_anonimized,on=['employee', 'companyAlias'],how=\"inner\")\n",
        "df_comments_merge.head()"
      ]
    },
    {
      "cell_type": "markdown",
      "metadata": {
        "id": "1pwO3srlluZ8"
      },
      "source": [
        "f) Veja quantos registros nulos há para a variável commentDate, rodando o código abaixo e elimine-os."
      ]
    },
    {
      "cell_type": "code",
      "execution_count": null,
      "metadata": {
        "colab": {
          "base_uri": "https://localhost:8080/",
          "height": 98
        },
        "id": "Fua8yHK8luZ8",
        "outputId": "be9bc59c-e8f2-4a51-88ef-f45c1c7e9c0a"
      },
      "outputs": [],
      "source": [
        "df_comments_merge[df_comments_merge.commentDate.isna()]"
      ]
    },
    {
      "cell_type": "code",
      "execution_count": null,
      "metadata": {
        "id": "PRbVAvEwluZ8"
      },
      "outputs": [],
      "source": [
        "df_comments_merge = df_comments_merge[~ df_comments_merge.commentDate.isna()]"
      ]
    },
    {
      "cell_type": "markdown",
      "metadata": {
        "id": "YewH_4y7luZ8"
      },
      "source": [
        "g) Agora crie a variável qt_dias_diff_comment que represente a quantidade de dias de diferença entre commentDate e lastParticipationDate.\n"
      ]
    },
    {
      "cell_type": "code",
      "execution_count": null,
      "metadata": {
        "id": "4Ksd4KKqluZ8"
      },
      "outputs": [],
      "source": [
        "df_comments_merge['qt_dias_diff_comment'] = (df_comments_merge.lastParticipationDate - df_comments_merge.commentDate).map(lambda x: x.components.days)"
      ]
    },
    {
      "cell_type": "code",
      "execution_count": null,
      "metadata": {
        "colab": {
          "base_uri": "https://localhost:8080/"
        },
        "id": "rP8_hYL6luZ8",
        "outputId": "3b0f6f41-7b81-4f90-b96e-b165a89d48a4",
        "scrolled": true
      },
      "outputs": [],
      "source": [
        "df_comments_merge['qt_dias_diff_comment'].describe()"
      ]
    },
    {
      "cell_type": "markdown",
      "metadata": {
        "id": "p5dC3EiTluZ9"
      },
      "source": [
        "h) Veja quantos valores não-positivos existem na variável qt_dias_diff_comment e remova-os da base. Não podemos usar no modelo nenhuma informação que seja futura à nossa variável target (stillExists, mensurada após o lastParticipationDate)"
      ]
    },
    {
      "cell_type": "code",
      "execution_count": null,
      "metadata": {
        "colab": {
          "base_uri": "https://localhost:8080/"
        },
        "id": "x1k2k_CzluZ9",
        "outputId": "635f52a3-8578-4c0c-c392-5802d2e1c171"
      },
      "outputs": [],
      "source": [
        "df_comments_merge[df_comments_merge['qt_dias_diff_comment']<=0].shape"
      ]
    },
    {
      "cell_type": "code",
      "execution_count": null,
      "metadata": {
        "id": "7ZMtTuQYluZ9"
      },
      "outputs": [],
      "source": [
        "df_comments_merge = df_comments_merge[df_comments_merge['qt_dias_diff_comment']>0]"
      ]
    },
    {
      "cell_type": "code",
      "execution_count": null,
      "metadata": {
        "colab": {
          "base_uri": "https://localhost:8080/"
        },
        "id": "MhCrsiyLluZ9",
        "outputId": "829d7668-791f-4c98-cfd7-f067bf5f2dfa"
      },
      "outputs": [],
      "source": [
        "df_comments_merge.shape"
      ]
    },
    {
      "cell_type": "code",
      "execution_count": null,
      "metadata": {
        "colab": {
          "base_uri": "https://localhost:8080/",
          "height": 305
        },
        "id": "qUzzvWNKluZ9",
        "outputId": "4a9f44fd-9ddb-4be2-e1ff-611576e1e81c"
      },
      "outputs": [],
      "source": [
        "df_comments_merge.head()"
      ]
    },
    {
      "cell_type": "code",
      "execution_count": null,
      "metadata": {
        "colab": {
          "base_uri": "https://localhost:8080/",
          "height": 542
        },
        "id": "jvqflT7cluZ-",
        "outputId": "73d3a3b9-df0f-433d-8e9d-99aa3d04124d"
      },
      "outputs": [],
      "source": [
        "# Using plotly.express\n",
        "fig = px.histogram(df_comments_merge, x=\"qt_dias_diff_comment\")\n",
        "fig.show()"
      ]
    },
    {
      "cell_type": "markdown",
      "metadata": {
        "id": "7w1cNTkNluZ-"
      },
      "source": [
        "i) Agora vamos agrupar a nossa base por <employee, companyAlias> e derivar as seguintes métricas:\n",
        "- likes: mean, min, max\n",
        "- dislikes: mean, min, max\n",
        "- qt_dias_diff_comment: min, max, median\n",
        "- commentId: count\n",
        "\n",
        "    Chame essa nova base de df_comments_group. Lembre de dar um flat no nome das colunas."
      ]
    },
    {
      "cell_type": "code",
      "execution_count": null,
      "metadata": {
        "colab": {
          "base_uri": "https://localhost:8080/",
          "height": 248
        },
        "id": "l26b51nmluZ-",
        "outputId": "eb9ef494-b6eb-44f0-ba3e-35ffd4f6b662"
      },
      "outputs": [],
      "source": [
        "df_comments_group = df_comments_merge.groupby(by=[\"employee\", \"companyAlias\"], as_index=False).agg({\n",
        "    'likes': ['mean','min', 'max'],\n",
        "    'dislikes': ['mean','min', 'max'],\n",
        "    'qt_dias_diff_comment': ['min', 'max', 'median'],\n",
        "    'commentId': ['count']\n",
        "})\n",
        "df_comments_group.head()"
      ]
    },
    {
      "cell_type": "code",
      "execution_count": null,
      "metadata": {
        "id": "9gkL9cYTluZ-"
      },
      "outputs": [],
      "source": [
        "df_comments_group.columns = ['_'.join(col).strip() if col[1] != \"\" else col[0] for col in df_comments_group.columns.values]"
      ]
    },
    {
      "cell_type": "code",
      "execution_count": null,
      "metadata": {
        "colab": {
          "base_uri": "https://localhost:8080/",
          "height": 218
        },
        "id": "irISqARdluZ-",
        "outputId": "94a76087-fd5f-4592-d876-4c50a8c90f61"
      },
      "outputs": [],
      "source": [
        "df_comments_group.head()"
      ]
    },
    {
      "cell_type": "code",
      "execution_count": null,
      "metadata": {
        "colab": {
          "base_uri": "https://localhost:8080/"
        },
        "id": "kkgPTh6UluZ_",
        "outputId": "ff3e65ad-0af4-4c18-e331-9642ef67978d"
      },
      "outputs": [],
      "source": [
        "df_comments_group.shape"
      ]
    },
    {
      "cell_type": "markdown",
      "metadata": {
        "id": "4yoAWYanFPOC"
      },
      "source": [
        "j) Por fim, vamos juntar as 3 bases: df_churn, df_votes_group e df_comments_group. Dica: selecione somente as variáveis que você quer levar pro dataset final, deixando as que não serão mais utilizadas."
      ]
    },
    {
      "cell_type": "code",
      "execution_count": null,
      "metadata": {
        "colab": {
          "base_uri": "https://localhost:8080/",
          "height": 218
        },
        "id": "nk5YUS1tluZ_",
        "outputId": "2d642775-d4da-460e-db31-8f8e30ca2c9a"
      },
      "outputs": [],
      "source": [
        "df_churn_merge = df_churn.merge(df_votes_group,on=['employee', 'companyAlias'],how=\"left\")\n",
        "df_churn_merge.head()"
      ]
    },
    {
      "cell_type": "code",
      "execution_count": null,
      "metadata": {
        "colab": {
          "base_uri": "https://localhost:8080/",
          "height": 218
        },
        "id": "5VsPqPXrFZdy",
        "outputId": "67a077d5-9bc6-4433-907d-9e37859aa919"
      },
      "outputs": [],
      "source": [
        "df_churn_merge = df_churn_merge.merge(df_comments_group,on=['employee', 'companyAlias'],how=\"left\")\n",
        "df_churn_merge.head()"
      ]
    },
    {
      "cell_type": "code",
      "execution_count": null,
      "metadata": {
        "colab": {
          "base_uri": "https://localhost:8080/"
        },
        "id": "sfJb_jG7luZ_",
        "outputId": "9a2f9d06-5c9e-4e07-c913-fd3becad6939"
      },
      "outputs": [],
      "source": [
        "df_churn_merge.shape"
      ]
    },
    {
      "cell_type": "markdown",
      "metadata": {
        "id": "3QvVT9zWluZ_"
      },
      "source": [
        "## Limpeza"
      ]
    },
    {
      "cell_type": "markdown",
      "metadata": {
        "id": "nzApzhxsluaA"
      },
      "source": [
        "Agora que temos um dataset estruturado, precisamos terminar de limpar nossos dados. Já fizemos algumas limpezas as longo do caminho, mas ainda restam outras."
      ]
    },
    {
      "cell_type": "markdown",
      "metadata": {
        "id": "gU_gvluQluaA"
      },
      "source": [
        "a) Vamos começar fazendo uma seleção do range de data a ser considerado para a análise. Relembre a distribuição da variável lastParticipationDate. Observe que há alguns registros muito antigos e pouco significativos."
      ]
    },
    {
      "cell_type": "code",
      "execution_count": null,
      "metadata": {
        "colab": {
          "base_uri": "https://localhost:8080/",
          "height": 542
        },
        "id": "ChxqMWerluaA",
        "outputId": "cc201ecd-2014-41cd-971e-7a93fd0a535a"
      },
      "outputs": [],
      "source": [
        "# Using plotly.express\n",
        "import plotly.express as px\n",
        "\n",
        "fig = px.histogram(df_churn_merge, x=\"lastParticipationDate\")\n",
        "fig.show()"
      ]
    },
    {
      "cell_type": "markdown",
      "metadata": {
        "id": "Ea5p3V9lluaA"
      },
      "source": [
        "Remova os registros anteriores a Abril de 2016 para considerarmos o histórico de apenas 1 ano. "
      ]
    },
    {
      "cell_type": "code",
      "execution_count": null,
      "metadata": {
        "id": "1TEJlp9AluaA"
      },
      "outputs": [],
      "source": [
        "df_churn_merge = df_churn_merge[df_churn_merge.lastParticipationDate>='2016-04-01']"
      ]
    },
    {
      "cell_type": "code",
      "execution_count": null,
      "metadata": {
        "colab": {
          "base_uri": "https://localhost:8080/"
        },
        "id": "3DS20Zp7luaA",
        "outputId": "cc03e7d7-33d5-4d08-9b62-fb1b180098b0"
      },
      "outputs": [],
      "source": [
        "df_churn_merge.shape"
      ]
    },
    {
      "cell_type": "markdown",
      "metadata": {
        "id": "UWj3yGpIluaB"
      },
      "source": [
        "b) Vamos agora fazer uma análise da quantidade de nulos e decidir como tratar cada um deles. O que você observa?"
      ]
    },
    {
      "cell_type": "code",
      "execution_count": null,
      "metadata": {
        "colab": {
          "base_uri": "https://localhost:8080/"
        },
        "id": "-Bfgu4MPluaB",
        "outputId": "99940b91-1b86-4c3f-f3d0-1e00cf6710e8"
      },
      "outputs": [],
      "source": [
        "for col in df_churn_merge.columns:\n",
        "    print(df_churn_merge[col].isna().value_counts())"
      ]
    },
    {
      "cell_type": "markdown",
      "metadata": {
        "id": "nkEZ6JpKluaB"
      },
      "source": [
        "c) É possível notar que para as variáveis que vieram da base de Votação há sempre a mesma quantidade de nulos. Isso significa que os funcionários não participaram da votação. \n",
        "\n",
        "As que vieram da base de Comentários também, já que são funcionários que não comentaram. \n",
        "\n",
        "Imaginando que após a etapa de Data Wrangling você irá ter que rodar um modelo preditivo de churn que não aceita nulos, como você sugere tratar o nulo em cada um dos casos abaixo? Implemente!\n",
        "\n",
        "- vote_mean\n",
        "- vote_mode\n",
        "- vote_min\n",
        "- vote_max\n",
        "- vote_count\n",
        "- qt_dias_diff_vote_min\n",
        "- qt_dias_diff_vote_max\n",
        "- qt_dias_diff_vote_median\n",
        "\n",
        "\n",
        "- likes_mean\n",
        "- likes_min\n",
        "- likes_max\n",
        "- dislikes_mean\n",
        "- dislikes_min\n",
        "- dislikes_max\n",
        "- qt_dias_diff_comment_min\n",
        "- qt_dias_diff_comment_max\n",
        "- qt_dias_diff_comment_median\n",
        "- commentId_count\n",
        "\n",
        "OBS: Caso esses dados tivesse que ser mostrados pro cliente ao invés de ir para o modelo, o mais indicado seria calcular os gráficos desconsiderando os registros nulos."
      ]
    },
    {
      "cell_type": "code",
      "execution_count": null,
      "metadata": {
        "colab": {
          "base_uri": "https://localhost:8080/",
          "height": 308
        },
        "id": "YrluT9UDluaB",
        "outputId": "4d9fbb49-531c-4bbe-c1c7-ba6a28e683fe"
      },
      "outputs": [],
      "source": [
        "df_churn_merge.describe()"
      ]
    },
    {
      "cell_type": "markdown",
      "metadata": {
        "id": "sWNkKBdzluaB"
      },
      "source": [
        "<u>Resp:</u>\n",
        "- vote_mean: pode subsitituir por média geral\n",
        "- vote_mode: pode subsitituir por moda geral \n",
        "- vote_min: pode subsitituir por mediana geral \n",
        "- vote_max: pode subsitituir por mediana geral \n",
        "- vote_count: pode substituir por 0 porque de fato é 0\n",
        "- qt_dias_diff_vote_min: pode subsitituir por mediana geral \n",
        "- qt_dias_diff_vote_max: pode subsitituir por mediana geral \n",
        "- qt_dias_diff_vote_median: pode subsitituir por mediana geral \n",
        "\n",
        "\n",
        "- likes_mean: pode subsitituir por média geral\n",
        "- likes_min: pode subsitituir por mediana geral \n",
        "- likes_max: pode subsitituir por mediana geral \n",
        "- dislikes_mean: pode subsitituir por média geral\n",
        "- dislikes_min: pode subsitituir por mediana geral \n",
        "- dislikes_max: pode subsitituir por mediana geral \n",
        "- qt_dias_diff_comment_min: pode subsitituir por mediana geral\n",
        "- qt_dias_diff_comment_max: pode subsitituir por mediana geral\n",
        "- qt_dias_diff_comment_median: pode subsitituir por mediana geral\n",
        "- commentId_count: pode substituir por 0 porque de fato é 0"
      ]
    },
    {
      "cell_type": "code",
      "execution_count": null,
      "metadata": {
        "colab": {
          "base_uri": "https://localhost:8080/"
        },
        "id": "fjomviGgluaB",
        "outputId": "0a1a18b2-0bd5-4863-cbd4-02ad10596e28"
      },
      "outputs": [],
      "source": [
        "mean_cols=['vote_mean','likes_mean', 'dislikes_mean']\n",
        "for col in mean_cols:\n",
        "    avg=df_churn_merge[col].mean()\n",
        "    df_churn_merge.loc[df_churn_merge[col].isna(),col]=avg\n",
        "    print(col,\"- substituição de nulos por\",avg)"
      ]
    },
    {
      "cell_type": "code",
      "execution_count": null,
      "metadata": {
        "colab": {
          "base_uri": "https://localhost:8080/"
        },
        "id": "SI2Ht30pluaC",
        "outputId": "2fe0cbb6-91b7-4691-db57-50af06c9d544"
      },
      "outputs": [],
      "source": [
        "median_cols=['vote_mode','vote_max', 'vote_min', 'qt_dias_diff_vote_min', 'qt_dias_diff_vote_max', 'qt_dias_diff_vote_median',\n",
        "          'likes_min','likes_max','dislikes_min','dislikes_max','qt_dias_diff_comment_min','qt_dias_diff_comment_max',\n",
        "           'qt_dias_diff_comment_median']\n",
        "for col in median_cols:\n",
        "    med=df_churn_merge[col].median()\n",
        "    df_churn_merge.loc[df_churn_merge[col].isna(),col]=med\n",
        "    print(col,\"- substituição de nulos por\",med)"
      ]
    },
    {
      "cell_type": "markdown",
      "metadata": {
        "id": "L9xgjg6_luaC"
      },
      "source": [
        "d) Para fechar, vamos para a nossa etapa de tratamento de outliers! Rode o describe com os seguintes percentis [0.01,0.1,0.25,0.50,0.75,0.90,0.99]."
      ]
    },
    {
      "cell_type": "code",
      "execution_count": null,
      "metadata": {
        "colab": {
          "base_uri": "https://localhost:8080/",
          "height": 429
        },
        "id": "HF7hjApVluaC",
        "outputId": "9bce5821-a83b-4247-f789-b6044912c144"
      },
      "outputs": [],
      "source": [
        "df_churn_merge.describe(percentiles=[0.01,0.1,0.25,0.50,0.75,0.90,0.99])"
      ]
    },
    {
      "cell_type": "markdown",
      "metadata": {
        "id": "uOi2U5TdluaC"
      },
      "source": [
        "Como a variável employee é um tipo Indefinido, podemos ignorar ela nesse caso. Para quais você observa uma grande diferença entre o percentil 99% e o Max?"
      ]
    },
    {
      "cell_type": "markdown",
      "metadata": {
        "id": "h2nuNXbjluaC"
      },
      "source": [
        "<u>Resp:</u> numVotes, vote_count, qt_dias_diff_vote_min, qt_dias_diff_vote_max, likes_mean, likes_min, likes_max, dislikes_mean, dislikes_min, dislikes_max, qt_dias_diff_comment_min, qt_dias_diff_comment_max,\tqt_dias_diff_comment_median, commentId_count"
      ]
    },
    {
      "cell_type": "markdown",
      "metadata": {
        "id": "TSKokNPFluaC"
      },
      "source": [
        "e)  Plot o box plot para a variável numVotes."
      ]
    },
    {
      "cell_type": "code",
      "execution_count": null,
      "metadata": {
        "colab": {
          "base_uri": "https://localhost:8080/",
          "height": 296
        },
        "id": "koJ_7b8cluaD",
        "outputId": "3a8f3907-265b-4402-fb26-d7a6931aacb5"
      },
      "outputs": [],
      "source": [
        "import seaborn as sns\n",
        "\n",
        "sns.boxplot(data=df_churn_merge,x=df_churn_merge['numVotes'])"
      ]
    },
    {
      "cell_type": "markdown",
      "metadata": {
        "id": "-2LefTXyluaD"
      },
      "source": [
        "f) Utilizando o z-score, calcule quantos outliers existem para a lista de colunas abaixo."
      ]
    },
    {
      "cell_type": "code",
      "execution_count": null,
      "metadata": {
        "id": "BCEgwO4EluaD"
      },
      "outputs": [],
      "source": [
        "from scipy import stats\n",
        "out_cols=['numVotes', \n",
        "       'vote_count', 'qt_dias_diff_vote_min', 'qt_dias_diff_vote_max',\n",
        "       'qt_dias_diff_vote_median', 'likes_mean', 'likes_min', 'likes_max',\n",
        "       'dislikes_mean', 'dislikes_min', 'dislikes_max',\n",
        "       'qt_dias_diff_comment_min', 'qt_dias_diff_comment_max',\n",
        "       'qt_dias_diff_comment_median', 'commentId_count']"
      ]
    },
    {
      "cell_type": "code",
      "execution_count": null,
      "metadata": {
        "colab": {
          "base_uri": "https://localhost:8080/"
        },
        "id": "dB1DAuNNluaD",
        "outputId": "8fbdb80f-543e-4e58-f5ec-38b1b703c79a"
      },
      "outputs": [],
      "source": [
        "for col in out_cols:\n",
        "    z=np.abs(stats.zscore(df_churn_merge[col]))\n",
        "    print(col, df_churn_merge[z>3].shape)"
      ]
    },
    {
      "cell_type": "markdown",
      "metadata": {
        "id": "ndpigceLluaD"
      },
      "source": [
        "Para a variável numVotes, vamos eliminar os registros outliers para não adicionar no nosso modelos casos como esse que podem indicar algum erro."
      ]
    },
    {
      "cell_type": "code",
      "execution_count": null,
      "metadata": {
        "id": "xtDG9_3gluaD"
      },
      "outputs": [],
      "source": [
        "z=np.abs(stats.zscore(df_churn_merge.numVotes))\n",
        "df_churn_merge = df_churn_merge[z<3]"
      ]
    },
    {
      "cell_type": "markdown",
      "metadata": {
        "id": "0x2Ww2NOluaE"
      },
      "source": [
        "Para as demais, vamos substituir os outliers pelos limites inferiores e superiores."
      ]
    },
    {
      "cell_type": "code",
      "execution_count": null,
      "metadata": {
        "id": "PamfPAjmluaE"
      },
      "outputs": [],
      "source": [
        "out_cols=[ 'qt_dias_diff_vote_min', 'qt_dias_diff_vote_max',\n",
        "       'qt_dias_diff_vote_median', 'likes_mean', 'likes_min', 'likes_max',\n",
        "       'dislikes_mean', 'dislikes_min', 'dislikes_max',\n",
        "       'qt_dias_diff_comment_min', 'qt_dias_diff_comment_max',\n",
        "       'qt_dias_diff_comment_median']\n",
        "for col in out_cols:\n",
        "    lower_bound = df_churn_merge[col].mean()-3*df_churn_merge[col].std()\n",
        "    upper_bound = df_churn_merge[col].mean()+3*df_churn_merge[col].std()\n",
        "    df_churn_merge.loc[ df_churn_merge[col]<lower_bound, col] = int(lower_bound)\n",
        "    df_churn_merge.loc[(df_churn_merge[col]>upper_bound), col] = int(upper_bound)"
      ]
    },
    {
      "cell_type": "code",
      "execution_count": null,
      "metadata": {
        "colab": {
          "base_uri": "https://localhost:8080/",
          "height": 429
        },
        "id": "pVmQym-5luaE",
        "outputId": "252e24ac-b2e6-4307-c1e7-147f9d646254"
      },
      "outputs": [],
      "source": [
        "df_churn_merge.describe(percentiles=[0.01,0.1,0.25,0.50,0.75,0.90,0.99])"
      ]
    },
    {
      "cell_type": "markdown",
      "metadata": {
        "id": "ZFUbzLZ8luaE"
      },
      "source": [
        "## Fim! \n",
        "\n",
        "Dataset pronto e limpo! Nas próximas aulas aprenderemos a como enriquecer os dados, criando dados novos a partir dos dados que já temos."
      ]
    },
    {
      "cell_type": "code",
      "execution_count": null,
      "metadata": {
        "colab": {
          "base_uri": "https://localhost:8080/",
          "height": 218
        },
        "id": "Qb3eFvWMluaE",
        "outputId": "5f7ea7de-a2ee-4714-da53-487c222144d4"
      },
      "outputs": [],
      "source": [
        "df_churn_merge.head()"
      ]
    },
    {
      "cell_type": "markdown",
      "metadata": {
        "id": "Qi8IQ6m1luaE"
      },
      "source": [
        "Vamos salvar os datasets!"
      ]
    },
    {
      "cell_type": "code",
      "execution_count": null,
      "metadata": {
        "id": "UZOCjkD3luaF"
      },
      "outputs": [],
      "source": [
        "df_churn_merge.to_csv('data/df_churn_merge.csv',sep=',',index=False)\n",
        "df_comment_interactions.to_csv('data/df_comment_interactions.csv',sep=',',index=False)\n",
        "df_comments_clean_anonimized.to_csv('data/df_comments_clean_anonimized.csv',sep=',',index=False)\n",
        "df_votes.to_csv('data/df_votes.csv',sep=',',index=False)"
      ]
    },
    {
      "cell_type": "code",
      "execution_count": null,
      "metadata": {
        "id": "v6U2btOwluaF"
      },
      "outputs": [],
      "source": []
    }
  ],
  "metadata": {
    "colab": {
      "collapsed_sections": [],
      "name": "[Aluno] DCW Exercício Case 1 - Gabarito.ipynb",
      "provenance": []
    },
    "kernelspec": {
      "display_name": "Python 3",
      "language": "python",
      "name": "python3"
    },
    "language_info": {
      "codemirror_mode": {
        "name": "ipython",
        "version": 3
      },
      "file_extension": ".py",
      "mimetype": "text/x-python",
      "name": "python",
      "nbconvert_exporter": "python",
      "pygments_lexer": "ipython3",
      "version": "3.9.10"
    },
    "toc": {
      "base_numbering": 1,
      "nav_menu": {},
      "number_sections": true,
      "sideBar": true,
      "skip_h1_title": false,
      "title_cell": "Table of Contents",
      "title_sidebar": "Contents",
      "toc_cell": false,
      "toc_position": {},
      "toc_section_display": true,
      "toc_window_display": true
    },
    "varInspector": {
      "cols": {
        "lenName": 16,
        "lenType": 16,
        "lenVar": 40
      },
      "kernels_config": {
        "python": {
          "delete_cmd_postfix": "",
          "delete_cmd_prefix": "del ",
          "library": "var_list.py",
          "varRefreshCmd": "print(var_dic_list())"
        },
        "r": {
          "delete_cmd_postfix": ") ",
          "delete_cmd_prefix": "rm(",
          "library": "var_list.r",
          "varRefreshCmd": "cat(var_dic_list()) "
        }
      },
      "types_to_exclude": [
        "module",
        "function",
        "builtin_function_or_method",
        "instance",
        "_Feature"
      ],
      "window_display": false
    }
  },
  "nbformat": 4,
  "nbformat_minor": 0
}
